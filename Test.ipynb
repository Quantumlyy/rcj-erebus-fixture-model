{
 "cells": [
  {
   "cell_type": "code",
   "execution_count": 1,
   "metadata": {
    "collapsed": true,
    "ExecuteTime": {
     "end_time": "2023-06-30T13:02:38.877614Z",
     "start_time": "2023-06-30T13:02:38.396456Z"
    }
   },
   "outputs": [],
   "source": [
    "import matplotlib.pyplot as plt"
   ]
  },
  {
   "cell_type": "code",
   "execution_count": 2,
   "outputs": [],
   "source": [
    "import sys\n",
    "import time"
   ],
   "metadata": {
    "collapsed": false,
    "ExecuteTime": {
     "end_time": "2023-06-30T13:02:38.882948Z",
     "start_time": "2023-06-30T13:02:38.880154Z"
    }
   }
  },
  {
   "cell_type": "code",
   "execution_count": 3,
   "outputs": [],
   "source": [
    "import tensorflow as tf\n",
    "import keras\n",
    "from keras import layers\n",
    "import keras_tuner as kt\n",
    "import numpy as np\n",
    "from PIL import Image"
   ],
   "metadata": {
    "collapsed": false,
    "ExecuteTime": {
     "end_time": "2023-06-30T13:02:42.975170Z",
     "start_time": "2023-06-30T13:02:38.884124Z"
    }
   }
  },
  {
   "cell_type": "code",
   "execution_count": 4,
   "outputs": [],
   "source": [
    "sys.modules['Image'] = Image"
   ],
   "metadata": {
    "collapsed": false,
    "ExecuteTime": {
     "end_time": "2023-06-30T13:02:42.976201Z",
     "start_time": "2023-06-30T13:02:42.907509Z"
    }
   }
  },
  {
   "cell_type": "code",
   "execution_count": 5,
   "outputs": [],
   "source": [
    "tf.get_logger().setLevel('ERROR')"
   ],
   "metadata": {
    "collapsed": false,
    "ExecuteTime": {
     "end_time": "2023-06-30T13:02:42.976278Z",
     "start_time": "2023-06-30T13:02:42.907982Z"
    }
   }
  },
  {
   "cell_type": "code",
   "execution_count": 34,
   "outputs": [],
   "source": [
    "image_size = (40, 64)\n",
    "class_names = ['0', 'C', 'F', 'H', 'O', 'P', 'S', 'U']"
   ],
   "metadata": {
    "collapsed": false,
    "ExecuteTime": {
     "end_time": "2023-06-30T13:07:24.566285Z",
     "start_time": "2023-06-30T13:07:24.559709Z"
    }
   }
  },
  {
   "cell_type": "code",
   "execution_count": 38,
   "outputs": [],
   "source": [
    "model = keras.models.load_model(\"./test_frt-hp.keras\")"
   ],
   "metadata": {
    "collapsed": false,
    "ExecuteTime": {
     "end_time": "2023-07-01T11:03:46.062424Z",
     "start_time": "2023-07-01T11:03:45.336572Z"
    }
   }
  },
  {
   "cell_type": "code",
   "execution_count": 39,
   "outputs": [],
   "source": [
    "img = tf.keras.preprocessing.image.load_img(\n",
    "    \"test_image.png\", target_size=image_size\n",
    ")"
   ],
   "metadata": {
    "collapsed": false,
    "ExecuteTime": {
     "end_time": "2023-07-01T11:03:46.481091Z",
     "start_time": "2023-07-01T11:03:46.476805Z"
    }
   }
  },
  {
   "cell_type": "code",
   "execution_count": 40,
   "outputs": [
    {
     "name": "stdout",
     "output_type": "stream",
     "text": [
      "1/1 [==============================] - 0s 42ms/step\n",
      "Time: 0.05776200000000031s\n",
      "[('0', -183.3596), ('C', -98.13316), ('F', -162.17624), ('H', -125.42754), ('O', -116.73434), ('P', -128.06201), ('S', 60.010296), ('U', -115.05062)]\n",
      "[6]\n",
      "S\n"
     ]
    }
   ],
   "source": [
    "img_array = tf.keras.preprocessing.image.img_to_array(img)\n",
    "img_array = tf.expand_dims(img_array, 0)  # Create batch axis\n",
    "\n",
    "start = time.process_time()\n",
    "predictions = model.predict(img_array)\n",
    "end = time.process_time()\n",
    "\n",
    "print(\"Time: {}s\".format(end-start))\n",
    "print(list(map(lambda p, c: (c, p),predictions[0], class_names)))\n",
    "print(predictions.argmax(axis=-1))\n",
    "print(sorted(map(lambda p, c: (c, p), predictions[0], class_names), key=lambda t: -t[1])[0][0])"
   ],
   "metadata": {
    "collapsed": false,
    "ExecuteTime": {
     "end_time": "2023-07-01T11:03:47.004511Z",
     "start_time": "2023-07-01T11:03:46.942123Z"
    }
   }
  },
  {
   "cell_type": "code",
   "execution_count": null,
   "outputs": [],
   "source": [],
   "metadata": {
    "collapsed": false
   }
  }
 ],
 "metadata": {
  "kernelspec": {
   "display_name": "Python 3",
   "language": "python",
   "name": "python3"
  },
  "language_info": {
   "codemirror_mode": {
    "name": "ipython",
    "version": 2
   },
   "file_extension": ".py",
   "mimetype": "text/x-python",
   "name": "python",
   "nbconvert_exporter": "python",
   "pygments_lexer": "ipython2",
   "version": "2.7.6"
  }
 },
 "nbformat": 4,
 "nbformat_minor": 0
}
