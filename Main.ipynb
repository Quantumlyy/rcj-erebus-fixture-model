{
 "cells": [
  {
   "cell_type": "code",
   "execution_count": 1,
   "outputs": [],
   "source": [
    "import sys\n",
    "import time"
   ],
   "metadata": {
    "collapsed": false,
    "ExecuteTime": {
     "end_time": "2023-06-30T07:11:23.701109Z",
     "start_time": "2023-06-30T07:11:23.697511Z"
    }
   }
  },
  {
   "cell_type": "code",
   "execution_count": 2,
   "id": "5151cfac",
   "metadata": {
    "ExecuteTime": {
     "end_time": "2023-06-30T07:11:26.685946Z",
     "start_time": "2023-06-30T07:11:23.702865Z"
    }
   },
   "outputs": [],
   "source": [
    "import tensorflow as tf\n",
    "import keras\n",
    "from keras import layers\n",
    "import keras_tuner as kt\n",
    "import numpy as np\n",
    "from PIL import Image"
   ]
  },
  {
   "cell_type": "code",
   "execution_count": 24,
   "outputs": [],
   "source": [
    "sys.modules['Image'] = Image"
   ],
   "metadata": {
    "collapsed": false,
    "ExecuteTime": {
     "end_time": "2023-06-30T09:44:07.322733Z",
     "start_time": "2023-06-30T09:44:07.317049Z"
    }
   }
  },
  {
   "cell_type": "code",
   "execution_count": 25,
   "id": "9553b337",
   "metadata": {
    "ExecuteTime": {
     "end_time": "2023-06-30T09:44:07.854825Z",
     "start_time": "2023-06-30T09:44:07.851415Z"
    }
   },
   "outputs": [],
   "source": [
    "tf.get_logger().setLevel('ERROR')"
   ]
  },
  {
   "cell_type": "code",
   "execution_count": 5,
   "id": "063c2882",
   "metadata": {
    "ExecuteTime": {
     "end_time": "2023-06-30T07:11:37.865405Z",
     "start_time": "2023-06-30T07:11:27.997753Z"
    }
   },
   "outputs": [
    {
     "name": "stdout",
     "output_type": "stream",
     "text": [
      "Deleted 0 images\n"
     ]
    }
   ],
   "source": [
    "import os\n",
    "\n",
    "# folders = (\"H\", \"S\", \"U\", \"FG\", \"OP\", \"P\", \"C\")\n",
    "folders = (\"H\", \"S\", \"U\", \"F\", \"P\", \"C\", \"O\", \"0\")\n",
    "\n",
    "num_skipped = 0\n",
    "for folder_name in folders:\n",
    "    folder_path = os.path.join(\"Signs\", folder_name)\n",
    "    for fname in os.listdir(folder_path):\n",
    "        fpath = os.path.join(folder_path, fname)\n",
    "        try:\n",
    "            fobj = open(fpath, \"rb\")\n",
    "            is_jfif = tf.compat.as_bytes(\"PNG\") in fobj.peek(10)\n",
    "        finally:\n",
    "            fobj.close()\n",
    "\n",
    "        if not is_jfif:\n",
    "            num_skipped += 1\n",
    "            # Delete corrupted image\n",
    "            os.remove(fpath)\n",
    "\n",
    "print(\"Deleted %d images\" % num_skipped)"
   ]
  },
  {
   "cell_type": "code",
   "execution_count": 6,
   "id": "d8450da8",
   "metadata": {
    "ExecuteTime": {
     "end_time": "2023-06-30T07:11:48.736685Z",
     "start_time": "2023-06-30T07:11:40.889507Z"
    }
   },
   "outputs": [
    {
     "name": "stdout",
     "output_type": "stream",
     "text": [
      "Found 79129 files belonging to 8 classes.\n",
      "Using 63304 files for training.\n",
      "Found 79129 files belonging to 8 classes.\n",
      "Using 15825 files for validation.\n"
     ]
    }
   ],
   "source": [
    "image_size = (64, 40)\n",
    "batch_size = 32\n",
    "\n",
    "train_ds = keras.utils.image_dataset_from_directory(\n",
    "    \"Signs\",\n",
    "    validation_split=0.2,\n",
    "    subset=\"training\",\n",
    "    seed=1337,\n",
    "    image_size=image_size,\n",
    "    batch_size=batch_size,\n",
    ")\n",
    "\n",
    "val_ds = keras.utils.image_dataset_from_directory(\n",
    "    \"Signs\",\n",
    "    validation_split=0.2,\n",
    "    subset=\"validation\",\n",
    "    seed=1337,\n",
    "    image_size=image_size,\n",
    "    batch_size=batch_size,\n",
    ")"
   ]
  },
  {
   "cell_type": "code",
   "execution_count": 7,
   "id": "d01ef311",
   "metadata": {
    "ExecuteTime": {
     "end_time": "2023-06-30T07:11:51.297433Z",
     "start_time": "2023-06-30T07:11:48.737521Z"
    }
   },
   "outputs": [
    {
     "name": "stderr",
     "output_type": "stream",
     "text": [
      "2023-06-30 09:11:48.742758: W tensorflow/tsl/platform/profile_utils/cpu_utils.cc:128] Failed to get CPU frequency: 0 Hz\n"
     ]
    },
    {
     "name": "stdout",
     "output_type": "stream",
     "text": [
      "63304\n",
      "['0', 'C', 'F', 'H', 'O', 'P', 'S', 'U']\n"
     ]
    }
   ],
   "source": [
    "class_names = train_ds.class_names\n",
    "print(len(np.concatenate([i for x, i in train_ds], axis=0)))\n",
    "print(class_names)"
   ]
  },
  {
   "cell_type": "code",
   "execution_count": 10,
   "id": "4a61c650",
   "metadata": {
    "ExecuteTime": {
     "end_time": "2023-06-30T07:12:31.484855Z",
     "start_time": "2023-06-30T07:12:31.263058Z"
    }
   },
   "outputs": [
    {
     "data": {
      "text/plain": "<Figure size 1000x1000 with 7 Axes>",
      "image/png": "[encoded data removed]"
     },
     "metadata": {},
     "output_type": "display_data"
    }
   ],
   "source": [
    "import matplotlib.pyplot as plt\n",
    "\n",
    "plt.figure(figsize=(10, 10))\n",
    "for images, labels in train_ds.take(1):\n",
    "    for i in range(7):\n",
    "        ax = plt.subplot(3, 3, i + 1)\n",
    "        plt.imshow(images[i].numpy().astype(\"uint8\"))\n",
    "        plt.title(int(labels[i]))\n",
    "        plt.axis(\"off\")"
   ]
  },
  {
   "cell_type": "code",
   "execution_count": 12,
   "outputs": [],
   "source": [
    "input_shape=image_size + (3,)\n",
    "num_classes=len(folders)"
   ],
   "metadata": {
    "collapsed": false,
    "ExecuteTime": {
     "end_time": "2023-06-30T07:12:39.763352Z",
     "start_time": "2023-06-30T07:12:39.729724Z"
    }
   }
  },
  {
   "cell_type": "code",
   "execution_count": 13,
   "outputs": [],
   "source": [
    "def model_builder(hp):\n",
    "    hp_last_units = hp.Int('units', min_value=32, max_value=768, step=32)\n",
    "    hp_last_activation = hp.Choice(\"activation\", [\"relu\", \"tanh\", \"softmax\"])\n",
    "    hp_dropout_rate = hp.Choice(\"hp_dropout_rate\", values=[.05, .1, .15, .2, .25, .3])\n",
    "\n",
    "    model_layers = [\n",
    "        layers.Rescaling(1./255, input_shape=input_shape),\n",
    "        layers.Conv2D(16, 3, padding='same', activation='relu'),\n",
    "        layers.BatchNormalization(),\n",
    "        layers.MaxPooling2D(),\n",
    "        layers.Conv2D(32, 3, padding='same', activation='relu'),\n",
    "        layers.MaxPooling2D(),\n",
    "        layers.Conv2D(64, 3, padding='same', activation='relu'),\n",
    "        layers.MaxPooling2D(),\n",
    "        layers.Dropout(hp_dropout_rate),\n",
    "        layers.Flatten(),\n",
    "        layers.Dense(hp_last_units, activation=hp_last_activation),\n",
    "        layers.Dense(num_classes, name=\"outputs\")\n",
    "    ]\n",
    "    model_layers = list(filter(lambda item: item is not None, model_layers))\n",
    "    model = keras.Sequential(model_layers)\n",
    "\n",
    "    hp_learning_rate = hp.Choice('learning_rate', values=[1e-2, 1e-3, 1e-4, 1e-5])\n",
    "    model.compile(\n",
    "        optimizer=keras.optimizers.Adam(learning_rate=hp_learning_rate),\n",
    "        loss=keras.losses.SparseCategoricalCrossentropy(from_logits=True),\n",
    "        metrics=['accuracy']\n",
    "    )\n",
    "\n",
    "    return model"
   ],
   "metadata": {
    "collapsed": false,
    "ExecuteTime": {
     "end_time": "2023-06-30T07:12:40.412087Z",
     "start_time": "2023-06-30T07:12:40.405521Z"
    }
   }
  },
  {
   "cell_type": "code",
   "execution_count": 14,
   "outputs": [],
   "source": [
    "tuner = kt.Hyperband(\n",
    "    model_builder,\n",
    "    objective='val_accuracy',\n",
    "    max_epochs=15,\n",
    "    factor=3,\n",
    "    directory='kt',\n",
    "    project_name='erebus'\n",
    ")"
   ],
   "metadata": {
    "collapsed": false,
    "ExecuteTime": {
     "end_time": "2023-06-30T07:12:42.596441Z",
     "start_time": "2023-06-30T07:12:42.552748Z"
    }
   }
  },
  {
   "cell_type": "code",
   "execution_count": 15,
   "outputs": [],
   "source": [
    "stop_early = keras.callbacks.EarlyStopping(monitor='val_loss', patience=7)"
   ],
   "metadata": {
    "collapsed": false,
    "ExecuteTime": {
     "end_time": "2023-06-30T07:12:43.487908Z",
     "start_time": "2023-06-30T07:12:43.482699Z"
    }
   }
  },
  {
   "cell_type": "code",
   "execution_count": 16,
   "outputs": [
    {
     "name": "stdout",
     "output_type": "stream",
     "text": [
      "Trial 30 Complete [00h 08m 45s]\n",
      "val_accuracy: 0.9958294034004211\n",
      "\n",
      "Best val_accuracy So Far: 0.99747234582901\n",
      "Total elapsed time: 01h 37m 25s\n"
     ]
    }
   ],
   "source": [
    "tuner.search(train_ds, validation_data=val_ds, epochs=75, validation_split=0.2, callbacks=[stop_early])\n",
    "\n",
    "# Get the optimal hyperparameters\n",
    "best_hps = tuner.get_best_hyperparameters(num_trials=1)[0]"
   ],
   "metadata": {
    "collapsed": false
   }
  },
  {
   "cell_type": "code",
   "execution_count": 19,
   "outputs": [
    {
     "name": "stdout",
     "output_type": "stream",
     "text": [
      "\n",
      "units: 224\n",
      "activation: tanh\n",
      "hp_dropout_rate: 0.15\n",
      "learning_rate: 0.0001\n",
      "\n"
     ]
    }
   ],
   "source": [
    "print(f\"\"\"\n",
    "The hyperparameter search is complete. The optimal number of units in the first densely-connected\n",
    "layer is {best_hps.get('units')} and the optimal learning rate for the optimizer\n",
    "is {best_hps.get('learning_rate')}.\n",
    "\"\"\")"
   ],
   "metadata": {
    "collapsed": false,
    "ExecuteTime": {
     "end_time": "2023-06-30T09:22:37.295684Z",
     "start_time": "2023-06-30T09:22:37.286919Z"
    }
   }
  },
  {
   "cell_type": "code",
   "execution_count": 20,
   "id": "730d3e93",
   "metadata": {
    "ExecuteTime": {
     "end_time": "2023-06-30T09:39:01.579125Z",
     "start_time": "2023-06-30T09:22:42.742331Z"
    }
   },
   "outputs": [
    {
     "name": "stdout",
     "output_type": "stream",
     "text": [
      "Epoch 1/30\n",
      "1979/1979 [==============================] - 34s 17ms/step - loss: 0.3202 - accuracy: 0.9024 - val_loss: 0.0605 - val_accuracy: 0.9856\n",
      "Epoch 2/30\n",
      "1979/1979 [==============================] - 31s 16ms/step - loss: 0.0526 - accuracy: 0.9857 - val_loss: 0.0311 - val_accuracy: 0.9908\n",
      "Epoch 3/30\n",
      "1979/1979 [==============================] - 34s 17ms/step - loss: 0.0311 - accuracy: 0.9905 - val_loss: 0.0247 - val_accuracy: 0.9919\n",
      "Epoch 4/30\n",
      "1979/1979 [==============================] - 33s 17ms/step - loss: 0.0212 - accuracy: 0.9930 - val_loss: 0.0245 - val_accuracy: 0.9919\n",
      "Epoch 5/30\n",
      "1979/1979 [==============================] - 32s 16ms/step - loss: 0.0152 - accuracy: 0.9947 - val_loss: 0.0172 - val_accuracy: 0.9938\n",
      "Epoch 6/30\n",
      "1979/1979 [==============================] - 33s 17ms/step - loss: 0.0129 - accuracy: 0.9957 - val_loss: 0.0181 - val_accuracy: 0.9943\n",
      "Epoch 7/30\n",
      "1979/1979 [==============================] - 32s 16ms/step - loss: 0.0101 - accuracy: 0.9965 - val_loss: 0.0147 - val_accuracy: 0.9949\n",
      "Epoch 8/30\n",
      "1979/1979 [==============================] - 33s 17ms/step - loss: 0.0084 - accuracy: 0.9970 - val_loss: 0.0151 - val_accuracy: 0.9954\n",
      "Epoch 9/30\n",
      "1979/1979 [==============================] - 32s 16ms/step - loss: 0.0076 - accuracy: 0.9971 - val_loss: 0.0128 - val_accuracy: 0.9955\n",
      "Epoch 10/30\n",
      "1979/1979 [==============================] - 32s 16ms/step - loss: 0.0069 - accuracy: 0.9975 - val_loss: 0.0121 - val_accuracy: 0.9955\n",
      "Epoch 11/30\n",
      "1979/1979 [==============================] - 31s 16ms/step - loss: 0.0057 - accuracy: 0.9977 - val_loss: 0.0142 - val_accuracy: 0.9950\n",
      "Epoch 12/30\n",
      "1979/1979 [==============================] - 31s 16ms/step - loss: 0.0057 - accuracy: 0.9976 - val_loss: 0.0164 - val_accuracy: 0.9951\n",
      "Epoch 13/30\n",
      "1979/1979 [==============================] - 31s 15ms/step - loss: 0.0049 - accuracy: 0.9981 - val_loss: 0.0129 - val_accuracy: 0.9952\n",
      "Epoch 14/30\n",
      "1979/1979 [==============================] - 31s 16ms/step - loss: 0.0047 - accuracy: 0.9981 - val_loss: 0.0117 - val_accuracy: 0.9968\n",
      "Epoch 15/30\n",
      "1979/1979 [==============================] - 31s 16ms/step - loss: 0.0044 - accuracy: 0.9983 - val_loss: 0.0118 - val_accuracy: 0.9959\n",
      "Epoch 16/30\n",
      "1979/1979 [==============================] - 32s 16ms/step - loss: 0.0043 - accuracy: 0.9982 - val_loss: 0.0142 - val_accuracy: 0.9956\n",
      "Epoch 17/30\n",
      "1979/1979 [==============================] - 30s 15ms/step - loss: 0.0041 - accuracy: 0.9984 - val_loss: 0.0136 - val_accuracy: 0.9956\n",
      "Epoch 18/30\n",
      "1979/1979 [==============================] - 31s 15ms/step - loss: 0.0036 - accuracy: 0.9985 - val_loss: 0.0170 - val_accuracy: 0.9951\n",
      "Epoch 19/30\n",
      "1979/1979 [==============================] - 32s 16ms/step - loss: 0.0038 - accuracy: 0.9984 - val_loss: 0.0130 - val_accuracy: 0.9962\n",
      "Epoch 20/30\n",
      "1979/1979 [==============================] - 33s 17ms/step - loss: 0.0034 - accuracy: 0.9985 - val_loss: 0.0121 - val_accuracy: 0.9965\n",
      "Epoch 21/30\n",
      "1979/1979 [==============================] - 33s 17ms/step - loss: 0.0034 - accuracy: 0.9985 - val_loss: 0.0126 - val_accuracy: 0.9962\n",
      "Epoch 22/30\n",
      "1979/1979 [==============================] - 33s 17ms/step - loss: 0.0030 - accuracy: 0.9988 - val_loss: 0.0137 - val_accuracy: 0.9959\n",
      "Epoch 23/30\n",
      "1979/1979 [==============================] - 33s 17ms/step - loss: 0.0037 - accuracy: 0.9985 - val_loss: 0.0128 - val_accuracy: 0.9961\n",
      "Epoch 24/30\n",
      "1979/1979 [==============================] - 32s 16ms/step - loss: 0.0028 - accuracy: 0.9989 - val_loss: 0.0130 - val_accuracy: 0.9963\n",
      "Epoch 25/30\n",
      "1979/1979 [==============================] - 33s 17ms/step - loss: 0.0031 - accuracy: 0.9987 - val_loss: 0.0109 - val_accuracy: 0.9969\n",
      "Epoch 26/30\n",
      "1979/1979 [==============================] - 34s 17ms/step - loss: 0.0029 - accuracy: 0.9988 - val_loss: 0.0114 - val_accuracy: 0.9967\n",
      "Epoch 27/30\n",
      "1979/1979 [==============================] - 34s 17ms/step - loss: 0.0027 - accuracy: 0.9989 - val_loss: 0.0133 - val_accuracy: 0.9960\n",
      "Epoch 28/30\n",
      "1979/1979 [==============================] - 34s 17ms/step - loss: 0.0028 - accuracy: 0.9988 - val_loss: 0.0120 - val_accuracy: 0.9965\n",
      "Epoch 29/30\n",
      "1979/1979 [==============================] - 35s 18ms/step - loss: 0.0025 - accuracy: 0.9990 - val_loss: 0.0144 - val_accuracy: 0.9963\n",
      "Epoch 30/30\n",
      "1979/1979 [==============================] - 34s 17ms/step - loss: 0.0026 - accuracy: 0.9988 - val_loss: 0.0140 - val_accuracy: 0.9966\n"
     ]
    }
   ],
   "source": [
    "model = tuner.hypermodel.build(best_hps)\n",
    "history = model.fit(\n",
    "    train_ds,\n",
    "    validation_data=val_ds,\n",
    "    epochs=75,\n",
    "    validation_split=0.2\n",
    ")"
   ]
  },
  {
   "cell_type": "code",
   "execution_count": 21,
   "outputs": [
    {
     "data": {
      "text/plain": "<Figure size 800x800 with 2 Axes>",
      "image/png": "[encoded data removed]"
     },
     "metadata": {},
     "output_type": "display_data"
    }
   ],
   "source": [
    "acc = history.history['accuracy']\n",
    "val_acc = history.history['val_accuracy']\n",
    "\n",
    "loss = history.history['loss']\n",
    "val_loss = history.history['val_loss']\n",
    "\n",
    "epochs_range = range(75)\n",
    "\n",
    "plt.figure(figsize=(8, 8))\n",
    "plt.subplot(1, 2, 1)\n",
    "plt.plot(epochs_range, acc, label='Training Accuracy')\n",
    "plt.plot(epochs_range, val_acc, label='Validation Accuracy')\n",
    "plt.legend(loc='lower right')\n",
    "plt.title('Training and Validation Accuracy')\n",
    "\n",
    "plt.subplot(1, 2, 2)\n",
    "plt.plot(epochs_range, loss, label='Training Loss')\n",
    "plt.plot(epochs_range, val_loss, label='Validation Loss')\n",
    "plt.legend(loc='upper right')\n",
    "plt.title('Training and Validation Loss')\n",
    "plt.show()"
   ],
   "metadata": {
    "collapsed": false,
    "ExecuteTime": {
     "end_time": "2023-06-30T09:43:19.348527Z",
     "start_time": "2023-06-30T09:43:19.191101Z"
    }
   }
  },
  {
   "cell_type": "code",
   "execution_count": 22,
   "id": "50afb0ff",
   "metadata": {
    "ExecuteTime": {
     "end_time": "2023-06-30T09:43:25.952686Z",
     "start_time": "2023-06-30T09:43:25.919284Z"
    }
   },
   "outputs": [],
   "source": [
    "model.save('test_f-hp.keras')"
   ]
  },
  {
   "cell_type": "code",
   "execution_count": 26,
   "id": "2ff92837",
   "metadata": {
    "ExecuteTime": {
     "end_time": "2023-06-30T09:44:29.806705Z",
     "start_time": "2023-06-30T09:44:29.801843Z"
    }
   },
   "outputs": [],
   "source": [
    "img = tf.keras.preprocessing.image.load_img(\n",
    "    \"Signs/S/55.png\", target_size=image_size\n",
    ")"
   ]
  },
  {
   "cell_type": "code",
   "execution_count": 30,
   "id": "df85eb84",
   "metadata": {
    "ExecuteTime": {
     "end_time": "2023-06-30T10:47:26.888564Z",
     "start_time": "2023-06-30T10:47:26.855067Z"
    }
   },
   "outputs": [
    {
     "name": "stdout",
     "output_type": "stream",
     "text": [
      "1/1 [==============================] - 0s 11ms/step\n",
      "Time: 0.03612099999736529s\n",
      "[('0', -7.795857), ('C', -1.598569), ('F', 1.110386), ('H', -1.3198621), ('O', -0.57987523), ('P', -8.317536), ('S', 19.893692), ('U', -1.479362)]\n",
      "[6]\n",
      "S\n"
     ]
    }
   ],
   "source": [
    "img_array = tf.keras.preprocessing.image.img_to_array(img)\n",
    "img_array = tf.expand_dims(img_array, 0)  # Create batch axis\n",
    "\n",
    "start = time.process_time() \n",
    "predictions = model.predict(img_array)\n",
    "end = time.process_time()\n",
    "\n",
    "print(\"Time: {}s\".format(end-start))\n",
    "print(list(map(lambda p, c: (c, p),predictions[0], class_names)))\n",
    "print(predictions.argmax(axis=-1))\n",
    "print(sorted(map(lambda p, c: (c, p),predictions[0], class_names), key=lambda t: t[1]))"
   ]
  },
  {
   "cell_type": "code",
   "execution_count": null,
   "outputs": [],
   "source": [],
   "metadata": {
    "collapsed": false
   }
  }
 ],
 "metadata": {
  "kernelspec": {
   "display_name": "Python 3 (ipykernel)",
   "language": "python",
   "name": "python3"
  },
  "language_info": {
   "codemirror_mode": {
    "name": "ipython",
    "version": 3
   },
   "file_extension": ".py",
   "mimetype": "text/x-python",
   "name": "python",
   "nbconvert_exporter": "python",
   "pygments_lexer": "ipython3",
   "version": "3.10.9"
  }
 },
 "nbformat": 4,
 "nbformat_minor": 5
}
