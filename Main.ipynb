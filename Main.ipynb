{
 "cells": [
  {
   "cell_type": "code",
   "execution_count": 178,
   "outputs": [],
   "source": [
    "import sys\n",
    "import time"
   ],
   "metadata": {
    "collapsed": false,
    "ExecuteTime": {
     "start_time": "2023-06-09T11:18:10.326623Z",
     "end_time": "2023-06-09T11:18:10.329177Z"
    }
   }
  },
  {
   "cell_type": "code",
   "execution_count": 179,
   "id": "5151cfac",
   "metadata": {
    "ExecuteTime": {
     "start_time": "2023-06-09T11:18:10.888264Z",
     "end_time": "2023-06-09T11:18:10.895184Z"
    }
   },
   "outputs": [],
   "source": [
    "import tensorflow as tf\n",
    "import keras\n",
    "from keras import layers\n",
    "import keras_tuner as kt\n",
    "import numpy as np\n",
    "from PIL import Image"
   ]
  },
  {
   "cell_type": "code",
   "execution_count": 180,
   "outputs": [],
   "source": [
    "sys.modules['Image'] = Image"
   ],
   "metadata": {
    "collapsed": false,
    "ExecuteTime": {
     "start_time": "2023-06-09T11:18:11.407874Z",
     "end_time": "2023-06-09T11:18:11.412022Z"
    }
   }
  },
  {
   "cell_type": "code",
   "execution_count": 181,
   "id": "9553b337",
   "metadata": {
    "ExecuteTime": {
     "start_time": "2023-06-09T11:18:11.945970Z",
     "end_time": "2023-06-09T11:18:11.951189Z"
    }
   },
   "outputs": [],
   "source": [
    "tf.get_logger().setLevel('ERROR')"
   ]
  },
  {
   "cell_type": "code",
   "execution_count": 182,
   "id": "063c2882",
   "metadata": {
    "ExecuteTime": {
     "start_time": "2023-06-09T11:18:12.939886Z",
     "end_time": "2023-06-09T11:18:13.729938Z"
    }
   },
   "outputs": [
    {
     "name": "stdout",
     "output_type": "stream",
     "text": [
      "Deleted 0 images\n"
     ]
    }
   ],
   "source": [
    "import os\n",
    "\n",
    "# folders = (\"H\", \"S\", \"U\", \"FG\", \"OP\", \"P\", \"C\")\n",
    "folders = (\"H\", \"S\", \"U\", \"F\")\n",
    "\n",
    "num_skipped = 0\n",
    "for folder_name in folders:\n",
    "    folder_path = os.path.join(\"Signs\", folder_name)\n",
    "    for fname in os.listdir(folder_path):\n",
    "        fpath = os.path.join(folder_path, fname)\n",
    "        try:\n",
    "            fobj = open(fpath, \"rb\")\n",
    "            is_jfif = tf.compat.as_bytes(\"PNG\") in fobj.peek(10)\n",
    "        finally:\n",
    "            fobj.close()\n",
    "\n",
    "        if not is_jfif:\n",
    "            num_skipped += 1\n",
    "            # Delete corrupted image\n",
    "            os.remove(fpath)\n",
    "\n",
    "print(\"Deleted %d images\" % num_skipped)"
   ]
  },
  {
   "cell_type": "code",
   "execution_count": 183,
   "id": "d8450da8",
   "metadata": {
    "ExecuteTime": {
     "start_time": "2023-06-09T11:18:25.086893Z",
     "end_time": "2023-06-09T11:18:26.166218Z"
    }
   },
   "outputs": [
    {
     "name": "stdout",
     "output_type": "stream",
     "text": [
      "Found 7452 files belonging to 4 classes.\n",
      "Using 5962 files for training.\n",
      "Found 7452 files belonging to 4 classes.\n",
      "Using 1490 files for validation.\n"
     ]
    }
   ],
   "source": [
    "image_size = (64, 40)\n",
    "batch_size = 32\n",
    "\n",
    "train_ds = keras.utils.image_dataset_from_directory(\n",
    "    \"Signs\",\n",
    "    validation_split=0.2,\n",
    "    subset=\"training\",\n",
    "    seed=1337,\n",
    "    image_size=image_size,\n",
    "    batch_size=batch_size,\n",
    ")\n",
    "\n",
    "val_ds = keras.utils.image_dataset_from_directory(\n",
    "    \"Signs\",\n",
    "    validation_split=0.2,\n",
    "    subset=\"validation\",\n",
    "    seed=1337,\n",
    "    image_size=image_size,\n",
    "    batch_size=batch_size,\n",
    ")"
   ]
  },
  {
   "cell_type": "code",
   "execution_count": 184,
   "id": "d01ef311",
   "metadata": {
    "ExecuteTime": {
     "start_time": "2023-06-09T11:18:28.239202Z",
     "end_time": "2023-06-09T11:18:28.387646Z"
    }
   },
   "outputs": [
    {
     "name": "stdout",
     "output_type": "stream",
     "text": [
      "5962\n",
      "['F', 'H', 'S', 'U']\n"
     ]
    }
   ],
   "source": [
    "class_names = train_ds.class_names\n",
    "print(len(np.concatenate([i for x, i in train_ds], axis=0)))\n",
    "print(class_names)"
   ]
  },
  {
   "cell_type": "code",
   "execution_count": 185,
   "id": "4a61c650",
   "metadata": {
    "ExecuteTime": {
     "start_time": "2023-06-09T11:18:29.936634Z",
     "end_time": "2023-06-09T11:18:30.200668Z"
    }
   },
   "outputs": [
    {
     "data": {
      "text/plain": "<Figure size 1000x1000 with 7 Axes>",
      "image/png": "[encoded data removed]"
     },
     "metadata": {},
     "output_type": "display_data"
    }
   ],
   "source": [
    "import matplotlib.pyplot as plt\n",
    "\n",
    "plt.figure(figsize=(10, 10))\n",
    "for images, labels in train_ds.take(1):\n",
    "    for i in range(7):\n",
    "        ax = plt.subplot(3, 3, i + 1)\n",
    "        plt.imshow(images[i].numpy().astype(\"uint8\"))\n",
    "        plt.title(int(labels[i]))\n",
    "        plt.axis(\"off\")"
   ]
  },
  {
   "cell_type": "code",
   "execution_count": 186,
   "outputs": [],
   "source": [
    "input_shape=image_size + (3,)\n",
    "num_classes=len(folders)"
   ],
   "metadata": {
    "collapsed": false,
    "ExecuteTime": {
     "start_time": "2023-06-09T11:18:35.032608Z",
     "end_time": "2023-06-09T11:18:35.037738Z"
    }
   }
  },
  {
   "cell_type": "code",
   "execution_count": 187,
   "outputs": [],
   "source": [
    "def model_builder(hp):\n",
    "    hp_last_units = hp.Int('units', min_value=32, max_value=768, step=32)\n",
    "    hp_last_activation = hp.Choice(\"activation\", [\"relu\", \"tanh\"])\n",
    "    hp_dropout = hp.Boolean(\"dropout\")\n",
    "\n",
    "    model_layers = [\n",
    "        layers.Rescaling(1./255, input_shape=input_shape),\n",
    "        layers.Conv2D(16, 3, padding='same', activation='relu'),\n",
    "        layers.BatchNormalization(),\n",
    "        layers.MaxPooling2D(),\n",
    "        layers.Conv2D(32, 3, padding='same', activation='relu'),\n",
    "        layers.MaxPooling2D(),\n",
    "        layers.Conv2D(64, 3, padding='same', activation='relu'),\n",
    "        layers.MaxPooling2D(),\n",
    "        layers.Dropout(0.25) if hp_dropout else None,\n",
    "        layers.Flatten(),\n",
    "        layers.Dense(hp_last_units, activation=hp_last_activation),\n",
    "        layers.Dense(num_classes, name=\"outputs\")\n",
    "    ]\n",
    "    model_layers = list(filter(lambda item: item is not None, model_layers))\n",
    "    model = keras.Sequential(model_layers)\n",
    "\n",
    "    hp_learning_rate = hp.Choice('learning_rate', values=[1e-2, 1e-3, 1e-4, 1e-5])\n",
    "    model.compile(\n",
    "        optimizer=keras.optimizers.Adam(learning_rate=hp_learning_rate),\n",
    "        loss=keras.losses.SparseCategoricalCrossentropy(from_logits=True),\n",
    "        metrics=['accuracy']\n",
    "    )\n",
    "\n",
    "    return model"
   ],
   "metadata": {
    "collapsed": false,
    "ExecuteTime": {
     "start_time": "2023-06-09T11:18:36.090784Z",
     "end_time": "2023-06-09T11:18:36.094458Z"
    }
   }
  },
  {
   "cell_type": "code",
   "execution_count": 188,
   "outputs": [],
   "source": [
    "tuner = kt.Hyperband(\n",
    "    model_builder,\n",
    "    objective='val_accuracy',\n",
    "    max_epochs=10,\n",
    "    factor=3,\n",
    "    directory='kt',\n",
    "    project_name='erebus'\n",
    ")"
   ],
   "metadata": {
    "collapsed": false,
    "ExecuteTime": {
     "start_time": "2023-06-09T11:18:37.051243Z",
     "end_time": "2023-06-09T11:18:37.116553Z"
    }
   }
  },
  {
   "cell_type": "code",
   "execution_count": 189,
   "outputs": [],
   "source": [
    "stop_early = keras.callbacks.EarlyStopping(monitor='val_loss', patience=5)"
   ],
   "metadata": {
    "collapsed": false,
    "ExecuteTime": {
     "start_time": "2023-06-09T11:18:38.141501Z",
     "end_time": "2023-06-09T11:18:38.148293Z"
    }
   }
  },
  {
   "cell_type": "code",
   "execution_count": 190,
   "outputs": [
    {
     "name": "stdout",
     "output_type": "stream",
     "text": [
      "Trial 30 Complete [00h 00m 28s]\n",
      "val_accuracy: 0.7463087439537048\n",
      "\n",
      "Best val_accuracy So Far: 0.9973154067993164\n",
      "Total elapsed time: 00h 06m 16s\n"
     ]
    }
   ],
   "source": [
    "tuner.search(train_ds, validation_data=val_ds, epochs=50, validation_split=0.2, callbacks=[stop_early])\n",
    "\n",
    "# Get the optimal hyperparameters\n",
    "best_hps = tuner.get_best_hyperparameters(num_trials=1)[0]"
   ],
   "metadata": {
    "collapsed": false,
    "ExecuteTime": {
     "start_time": "2023-06-09T11:18:39.099744Z",
     "end_time": "2023-06-09T11:24:55.129290Z"
    }
   }
  },
  {
   "cell_type": "code",
   "execution_count": 194,
   "outputs": [
    {
     "name": "stdout",
     "output_type": "stream",
     "text": [
      "\n",
      "The hyperparameter search is complete. The optimal number of units in the first densely-connected\n",
      "layer is 608 and the optimal learning rate for the optimizer\n",
      "is 0.001.\n",
      "\n"
     ]
    }
   ],
   "source": [
    "print(f\"\"\"\n",
    "The hyperparameter search is complete. The optimal number of units in the first densely-connected\n",
    "layer is {best_hps.get('units')} and the optimal learning rate for the optimizer\n",
    "is {best_hps.get('learning_rate')}.\n",
    "\"\"\")"
   ],
   "metadata": {
    "collapsed": false,
    "ExecuteTime": {
     "start_time": "2023-06-09T11:29:18.145314Z",
     "end_time": "2023-06-09T11:29:18.154477Z"
    }
   }
  },
  {
   "cell_type": "code",
   "execution_count": 195,
   "id": "730d3e93",
   "metadata": {
    "ExecuteTime": {
     "start_time": "2023-06-09T11:29:23.442542Z",
     "end_time": "2023-06-09T11:31:55.913368Z"
    }
   },
   "outputs": [
    {
     "name": "stdout",
     "output_type": "stream",
     "text": [
      "Epoch 1/50\n",
      "187/187 [==============================] - 3s 16ms/step - loss: 0.5908 - accuracy: 0.7838 - val_loss: 1.3099 - val_accuracy: 0.3919\n",
      "Epoch 2/50\n",
      "187/187 [==============================] - 3s 16ms/step - loss: 0.0568 - accuracy: 0.9779 - val_loss: 0.5311 - val_accuracy: 0.7215\n",
      "Epoch 3/50\n",
      "187/187 [==============================] - 3s 17ms/step - loss: 0.0324 - accuracy: 0.9878 - val_loss: 0.0651 - val_accuracy: 0.9691\n",
      "Epoch 4/50\n",
      "187/187 [==============================] - 3s 16ms/step - loss: 0.0154 - accuracy: 0.9946 - val_loss: 0.0263 - val_accuracy: 0.9899\n",
      "Epoch 5/50\n",
      "187/187 [==============================] - 3s 16ms/step - loss: 0.0058 - accuracy: 0.9982 - val_loss: 0.0222 - val_accuracy: 0.9940\n",
      "Epoch 6/50\n",
      "187/187 [==============================] - 3s 17ms/step - loss: 0.0252 - accuracy: 0.9901 - val_loss: 0.0324 - val_accuracy: 0.9899\n",
      "Epoch 7/50\n",
      "187/187 [==============================] - 3s 16ms/step - loss: 0.0242 - accuracy: 0.9909 - val_loss: 0.0265 - val_accuracy: 0.9886\n",
      "Epoch 8/50\n",
      "187/187 [==============================] - 3s 16ms/step - loss: 0.0040 - accuracy: 0.9985 - val_loss: 0.0107 - val_accuracy: 0.9966\n",
      "Epoch 9/50\n",
      "187/187 [==============================] - 3s 16ms/step - loss: 5.0734e-04 - accuracy: 1.0000 - val_loss: 0.0097 - val_accuracy: 0.9973\n",
      "Epoch 10/50\n",
      "187/187 [==============================] - 3s 16ms/step - loss: 1.8570e-04 - accuracy: 1.0000 - val_loss: 0.0103 - val_accuracy: 0.9973\n",
      "Epoch 11/50\n",
      "187/187 [==============================] - 3s 16ms/step - loss: 1.2620e-04 - accuracy: 1.0000 - val_loss: 0.0109 - val_accuracy: 0.9973\n",
      "Epoch 12/50\n",
      "187/187 [==============================] - 3s 16ms/step - loss: 8.7996e-05 - accuracy: 1.0000 - val_loss: 0.0108 - val_accuracy: 0.9973\n",
      "Epoch 13/50\n",
      "187/187 [==============================] - 3s 16ms/step - loss: 6.9944e-05 - accuracy: 1.0000 - val_loss: 0.0109 - val_accuracy: 0.9973\n",
      "Epoch 14/50\n",
      "187/187 [==============================] - 3s 16ms/step - loss: 6.3348e-05 - accuracy: 1.0000 - val_loss: 0.0110 - val_accuracy: 0.9973\n",
      "Epoch 15/50\n",
      "187/187 [==============================] - 3s 16ms/step - loss: 4.9030e-05 - accuracy: 1.0000 - val_loss: 0.0109 - val_accuracy: 0.9973\n",
      "Epoch 16/50\n",
      "187/187 [==============================] - 3s 16ms/step - loss: 4.0133e-05 - accuracy: 1.0000 - val_loss: 0.0111 - val_accuracy: 0.9973\n",
      "Epoch 17/50\n",
      "187/187 [==============================] - 3s 16ms/step - loss: 3.6119e-05 - accuracy: 1.0000 - val_loss: 0.0105 - val_accuracy: 0.9973\n",
      "Epoch 18/50\n",
      "187/187 [==============================] - 3s 16ms/step - loss: 2.9657e-05 - accuracy: 1.0000 - val_loss: 0.0111 - val_accuracy: 0.9966\n",
      "Epoch 19/50\n",
      "187/187 [==============================] - 3s 17ms/step - loss: 1.7535e-04 - accuracy: 1.0000 - val_loss: 0.0220 - val_accuracy: 0.9960\n",
      "Epoch 20/50\n",
      "187/187 [==============================] - 3s 16ms/step - loss: 1.3604e-04 - accuracy: 1.0000 - val_loss: 0.0202 - val_accuracy: 0.9966\n",
      "Epoch 21/50\n",
      "187/187 [==============================] - 3s 16ms/step - loss: 2.2198e-05 - accuracy: 1.0000 - val_loss: 0.0199 - val_accuracy: 0.9966\n",
      "Epoch 22/50\n",
      "187/187 [==============================] - 3s 16ms/step - loss: 1.8126e-05 - accuracy: 1.0000 - val_loss: 0.0198 - val_accuracy: 0.9966\n",
      "Epoch 23/50\n",
      "187/187 [==============================] - 3s 19ms/step - loss: 1.5901e-05 - accuracy: 1.0000 - val_loss: 0.0195 - val_accuracy: 0.9966\n",
      "Epoch 24/50\n",
      "187/187 [==============================] - 3s 17ms/step - loss: 1.3566e-05 - accuracy: 1.0000 - val_loss: 0.0192 - val_accuracy: 0.9966\n",
      "Epoch 25/50\n",
      "187/187 [==============================] - 3s 18ms/step - loss: 1.0766e-05 - accuracy: 1.0000 - val_loss: 0.0193 - val_accuracy: 0.9966\n",
      "Epoch 26/50\n",
      "187/187 [==============================] - 3s 17ms/step - loss: 9.5481e-06 - accuracy: 1.0000 - val_loss: 0.0189 - val_accuracy: 0.9966\n",
      "Epoch 27/50\n",
      "187/187 [==============================] - 3s 16ms/step - loss: 8.8993e-06 - accuracy: 1.0000 - val_loss: 0.0191 - val_accuracy: 0.9966\n",
      "Epoch 28/50\n",
      "187/187 [==============================] - 3s 16ms/step - loss: 7.4407e-06 - accuracy: 1.0000 - val_loss: 0.0192 - val_accuracy: 0.9966\n",
      "Epoch 29/50\n",
      "187/187 [==============================] - 3s 16ms/step - loss: 6.6498e-06 - accuracy: 1.0000 - val_loss: 0.0191 - val_accuracy: 0.9966\n",
      "Epoch 30/50\n",
      "187/187 [==============================] - 3s 17ms/step - loss: 5.9947e-06 - accuracy: 1.0000 - val_loss: 0.0194 - val_accuracy: 0.9966\n",
      "Epoch 31/50\n",
      "187/187 [==============================] - 4s 20ms/step - loss: 5.3287e-06 - accuracy: 1.0000 - val_loss: 0.0191 - val_accuracy: 0.9966\n",
      "Epoch 32/50\n",
      "187/187 [==============================] - 3s 17ms/step - loss: 4.8370e-06 - accuracy: 1.0000 - val_loss: 0.0192 - val_accuracy: 0.9966\n",
      "Epoch 33/50\n",
      "187/187 [==============================] - 3s 16ms/step - loss: 4.1425e-06 - accuracy: 1.0000 - val_loss: 0.0191 - val_accuracy: 0.9966\n",
      "Epoch 34/50\n",
      "187/187 [==============================] - 3s 16ms/step - loss: 3.6890e-06 - accuracy: 1.0000 - val_loss: 0.0191 - val_accuracy: 0.9966\n",
      "Epoch 35/50\n",
      "187/187 [==============================] - 3s 15ms/step - loss: 3.8807e-06 - accuracy: 1.0000 - val_loss: 0.0189 - val_accuracy: 0.9966\n",
      "Epoch 36/50\n",
      "187/187 [==============================] - 3s 16ms/step - loss: 3.4030e-06 - accuracy: 1.0000 - val_loss: 0.0190 - val_accuracy: 0.9966\n",
      "Epoch 37/50\n",
      "187/187 [==============================] - 3s 16ms/step - loss: 2.9088e-06 - accuracy: 1.0000 - val_loss: 0.0191 - val_accuracy: 0.9966\n",
      "Epoch 38/50\n",
      "187/187 [==============================] - 3s 16ms/step - loss: 2.3401e-06 - accuracy: 1.0000 - val_loss: 0.0193 - val_accuracy: 0.9966\n",
      "Epoch 39/50\n",
      "187/187 [==============================] - 3s 16ms/step - loss: 2.2483e-06 - accuracy: 1.0000 - val_loss: 0.0194 - val_accuracy: 0.9966\n",
      "Epoch 40/50\n",
      "187/187 [==============================] - 3s 16ms/step - loss: 2.1424e-06 - accuracy: 1.0000 - val_loss: 0.0194 - val_accuracy: 0.9966\n",
      "Epoch 41/50\n",
      "187/187 [==============================] - 3s 16ms/step - loss: 1.8060e-06 - accuracy: 1.0000 - val_loss: 0.0195 - val_accuracy: 0.9966\n",
      "Epoch 42/50\n",
      "187/187 [==============================] - 3s 16ms/step - loss: 1.8152e-06 - accuracy: 1.0000 - val_loss: 0.0193 - val_accuracy: 0.9966\n",
      "Epoch 43/50\n",
      "187/187 [==============================] - 3s 16ms/step - loss: 1.5953e-06 - accuracy: 1.0000 - val_loss: 0.0193 - val_accuracy: 0.9966\n",
      "Epoch 44/50\n",
      "187/187 [==============================] - 3s 16ms/step - loss: 1.4309e-06 - accuracy: 1.0000 - val_loss: 0.0192 - val_accuracy: 0.9966\n",
      "Epoch 45/50\n",
      "187/187 [==============================] - 3s 16ms/step - loss: 1.5220e-06 - accuracy: 1.0000 - val_loss: 0.0198 - val_accuracy: 0.9966\n",
      "Epoch 46/50\n",
      "187/187 [==============================] - 3s 16ms/step - loss: 1.2529e-06 - accuracy: 1.0000 - val_loss: 0.0195 - val_accuracy: 0.9966\n",
      "Epoch 47/50\n",
      "187/187 [==============================] - 3s 16ms/step - loss: 1.1651e-06 - accuracy: 1.0000 - val_loss: 0.0198 - val_accuracy: 0.9966\n",
      "Epoch 48/50\n",
      "187/187 [==============================] - 3s 16ms/step - loss: 9.4529e-07 - accuracy: 1.0000 - val_loss: 0.0197 - val_accuracy: 0.9966\n",
      "Epoch 49/50\n",
      "187/187 [==============================] - 3s 16ms/step - loss: 9.9990e-07 - accuracy: 1.0000 - val_loss: 0.0198 - val_accuracy: 0.9966\n",
      "Epoch 50/50\n",
      "187/187 [==============================] - 3s 16ms/step - loss: 7.8178e-07 - accuracy: 1.0000 - val_loss: 0.0193 - val_accuracy: 0.9966\n"
     ]
    }
   ],
   "source": [
    "model = tuner.hypermodel.build(best_hps)\n",
    "history = model.fit(\n",
    "    train_ds,\n",
    "    validation_data=val_ds,\n",
    "    epochs=50,\n",
    "    validation_split=0.2\n",
    ")"
   ]
  },
  {
   "cell_type": "code",
   "execution_count": 197,
   "outputs": [
    {
     "data": {
      "text/plain": "<Figure size 800x800 with 2 Axes>",
      "image/png": "[encoded data removed]"
     },
     "metadata": {},
     "output_type": "display_data"
    }
   ],
   "source": [
    "acc = history.history['accuracy']\n",
    "val_acc = history.history['val_accuracy']\n",
    "\n",
    "loss = history.history['loss']\n",
    "val_loss = history.history['val_loss']\n",
    "\n",
    "epochs_range = range(50)\n",
    "\n",
    "plt.figure(figsize=(8, 8))\n",
    "plt.subplot(1, 2, 1)\n",
    "plt.plot(epochs_range, acc, label='Training Accuracy')\n",
    "plt.plot(epochs_range, val_acc, label='Validation Accuracy')\n",
    "plt.legend(loc='lower right')\n",
    "plt.title('Training and Validation Accuracy')\n",
    "\n",
    "plt.subplot(1, 2, 2)\n",
    "plt.plot(epochs_range, loss, label='Training Loss')\n",
    "plt.plot(epochs_range, val_loss, label='Validation Loss')\n",
    "plt.legend(loc='upper right')\n",
    "plt.title('Training and Validation Loss')\n",
    "plt.show()"
   ],
   "metadata": {
    "collapsed": false,
    "ExecuteTime": {
     "start_time": "2023-06-09T11:31:55.969954Z",
     "end_time": "2023-06-09T11:31:56.108284Z"
    }
   }
  },
  {
   "cell_type": "code",
   "execution_count": 198,
   "id": "50afb0ff",
   "metadata": {
    "ExecuteTime": {
     "start_time": "2023-06-09T11:31:56.112055Z",
     "end_time": "2023-06-09T11:31:56.128332Z"
    }
   },
   "outputs": [],
   "source": [
    "model.save('test_4-hp.keras')"
   ]
  },
  {
   "cell_type": "code",
   "execution_count": 199,
   "id": "2ff92837",
   "metadata": {
    "ExecuteTime": {
     "start_time": "2023-06-09T11:31:56.129091Z",
     "end_time": "2023-06-09T11:31:56.130998Z"
    }
   },
   "outputs": [],
   "source": [
    "img = tf.keras.preprocessing.image.load_img(\n",
    "    \"Signs/S/55.png\", target_size=image_size\n",
    ")"
   ]
  },
  {
   "cell_type": "code",
   "execution_count": 207,
   "id": "df85eb84",
   "metadata": {
    "ExecuteTime": {
     "start_time": "2023-06-09T11:37:24.615536Z",
     "end_time": "2023-06-09T11:37:24.654720Z"
    }
   },
   "outputs": [
    {
     "name": "stdout",
     "output_type": "stream",
     "text": [
      "1/1 [==============================] - 0s 11ms/step\n",
      "Time: 0.04019899999912013s\n",
      "[('F', 2.5131264), ('H', 3.9308205), ('S', 24.017424), ('U', -29.801037)]\n",
      "[2]\n",
      "[('U', -29.801037), ('F', 2.5131264), ('H', 3.9308205), ('S', 24.017424)]\n"
     ]
    }
   ],
   "source": [
    "img_array = tf.keras.preprocessing.image.img_to_array(img)\n",
    "img_array = tf.expand_dims(img_array, 0)  # Create batch axis\n",
    "\n",
    "start = time.process_time() \n",
    "predictions = model.predict(img_array)\n",
    "end = time.process_time()\n",
    "\n",
    "print(\"Time: {}s\".format(end-start))\n",
    "print(list(map(lambda p, c: (c, p),predictions[0], class_names)))\n",
    "print(predictions.argmax(axis=-1))\n",
    "print(sorted(map(lambda p, c: (c, p),predictions[0], class_names), key=lambda t: t[1]))"
   ]
  },
  {
   "cell_type": "code",
   "execution_count": null,
   "outputs": [],
   "source": [],
   "metadata": {
    "collapsed": false
   }
  }
 ],
 "metadata": {
  "kernelspec": {
   "display_name": "Python 3 (ipykernel)",
   "language": "python",
   "name": "python3"
  },
  "language_info": {
   "codemirror_mode": {
    "name": "ipython",
    "version": 3
   },
   "file_extension": ".py",
   "mimetype": "text/x-python",
   "name": "python",
   "nbconvert_exporter": "python",
   "pygments_lexer": "ipython3",
   "version": "3.10.9"
  }
 },
 "nbformat": 4,
 "nbformat_minor": 5
}
