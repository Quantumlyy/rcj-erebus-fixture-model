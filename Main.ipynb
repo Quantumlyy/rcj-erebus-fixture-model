{
 "cells": [
  {
   "cell_type": "code",
   "execution_count": 1,
   "outputs": [],
   "source": [
    "import sys\n",
    "import time"
   ],
   "metadata": {
    "collapsed": false,
    "ExecuteTime": {
     "end_time": "2023-06-30T07:11:23.701109Z",
     "start_time": "2023-06-30T07:11:23.697511Z"
    }
   }
  },
  {
   "cell_type": "code",
   "execution_count": 2,
   "id": "5151cfac",
   "metadata": {
    "ExecuteTime": {
     "end_time": "2023-06-30T07:11:26.685946Z",
     "start_time": "2023-06-30T07:11:23.702865Z"
    }
   },
   "outputs": [],
   "source": [
    "import tensorflow as tf\n",
    "import keras\n",
    "from keras import layers\n",
    "import keras_tuner as kt\n",
    "import numpy as np\n",
    "from PIL import Image"
   ]
  },
  {
   "cell_type": "code",
   "execution_count": 24,
   "outputs": [],
   "source": [
    "sys.modules['Image'] = Image"
   ],
   "metadata": {
    "collapsed": false,
    "ExecuteTime": {
     "end_time": "2023-06-30T09:44:07.322733Z",
     "start_time": "2023-06-30T09:44:07.317049Z"
    }
   }
  },
  {
   "cell_type": "code",
   "execution_count": 25,
   "id": "9553b337",
   "metadata": {
    "ExecuteTime": {
     "end_time": "2023-06-30T09:44:07.854825Z",
     "start_time": "2023-06-30T09:44:07.851415Z"
    }
   },
   "outputs": [],
   "source": [
    "tf.get_logger().setLevel('ERROR')"
   ]
  },
  {
   "cell_type": "code",
   "execution_count": 5,
   "id": "063c2882",
   "metadata": {
    "ExecuteTime": {
     "end_time": "2023-06-30T07:11:37.865405Z",
     "start_time": "2023-06-30T07:11:27.997753Z"
    }
   },
   "outputs": [
    {
     "name": "stdout",
     "output_type": "stream",
     "text": [
      "Deleted 0 images\n"
     ]
    }
   ],
   "source": [
    "import os\n",
    "\n",
    "# folders = (\"H\", \"S\", \"U\", \"FG\", \"OP\", \"P\", \"C\")\n",
    "folders = (\"H\", \"S\", \"U\", \"F\", \"P\", \"C\", \"O\", \"0\")\n",
    "\n",
    "num_skipped = 0\n",
    "for folder_name in folders:\n",
    "    folder_path = os.path.join(\"Signs\", folder_name)\n",
    "    for fname in os.listdir(folder_path):\n",
    "        fpath = os.path.join(folder_path, fname)\n",
    "        try:\n",
    "            fobj = open(fpath, \"rb\")\n",
    "            is_jfif = tf.compat.as_bytes(\"PNG\") in fobj.peek(10)\n",
    "        finally:\n",
    "            fobj.close()\n",
    "\n",
    "        if not is_jfif:\n",
    "            num_skipped += 1\n",
    "            # Delete corrupted image\n",
    "            os.remove(fpath)\n",
    "\n",
    "print(\"Deleted %d images\" % num_skipped)"
   ]
  },
  {
   "cell_type": "code",
   "execution_count": 31,
   "id": "d8450da8",
   "metadata": {
    "ExecuteTime": {
     "end_time": "2023-06-30T11:04:26.690713Z",
     "start_time": "2023-06-30T11:04:17.122140Z"
    }
   },
   "outputs": [
    {
     "name": "stdout",
     "output_type": "stream",
     "text": [
      "Found 129471 files belonging to 8 classes.\n",
      "Using 103577 files for training.\n",
      "Found 129471 files belonging to 8 classes.\n",
      "Using 25894 files for validation.\n"
     ]
    }
   ],
   "source": [
    "image_size = (64, 40)\n",
    "batch_size = 32\n",
    "\n",
    "train_ds = keras.utils.image_dataset_from_directory(\n",
    "    \"Signs\",\n",
    "    validation_split=0.2,\n",
    "    subset=\"training\",\n",
    "    seed=1337,\n",
    "    image_size=image_size,\n",
    "    batch_size=batch_size,\n",
    ")\n",
    "\n",
    "val_ds = keras.utils.image_dataset_from_directory(\n",
    "    \"Signs\",\n",
    "    validation_split=0.2,\n",
    "    subset=\"validation\",\n",
    "    seed=1337,\n",
    "    image_size=image_size,\n",
    "    batch_size=batch_size,\n",
    ")"
   ]
  },
  {
   "cell_type": "code",
   "execution_count": 32,
   "id": "d01ef311",
   "metadata": {
    "ExecuteTime": {
     "end_time": "2023-06-30T11:04:32.043644Z",
     "start_time": "2023-06-30T11:04:28.028426Z"
    }
   },
   "outputs": [
    {
     "name": "stdout",
     "output_type": "stream",
     "text": [
      "103577\n",
      "['0', 'C', 'F', 'H', 'O', 'P', 'S', 'U']\n"
     ]
    }
   ],
   "source": [
    "class_names = train_ds.class_names\n",
    "print(len(np.concatenate([i for x, i in train_ds], axis=0)))\n",
    "print(class_names)"
   ]
  },
  {
   "cell_type": "code",
   "execution_count": 33,
   "id": "4a61c650",
   "metadata": {
    "ExecuteTime": {
     "end_time": "2023-06-30T11:04:32.253829Z",
     "start_time": "2023-06-30T11:04:32.050943Z"
    }
   },
   "outputs": [
    {
     "data": {
      "text/plain": "<Figure size 1000x1000 with 7 Axes>",
      "image/png": "[encoded data removed]"
     },
     "metadata": {},
     "output_type": "display_data"
    }
   ],
   "source": [
    "import matplotlib.pyplot as plt\n",
    "\n",
    "plt.figure(figsize=(10, 10))\n",
    "for images, labels in train_ds.take(1):\n",
    "    for i in range(7):\n",
    "        ax = plt.subplot(3, 3, i + 1)\n",
    "        plt.imshow(images[i].numpy().astype(\"uint8\"))\n",
    "        plt.title(int(labels[i]))\n",
    "        plt.axis(\"off\")"
   ]
  },
  {
   "cell_type": "code",
   "execution_count": 35,
   "outputs": [],
   "source": [
    "input_shape=image_size + (3,)\n",
    "num_classes=len(folders)"
   ],
   "metadata": {
    "collapsed": false,
    "ExecuteTime": {
     "end_time": "2023-06-30T11:05:36.429776Z",
     "start_time": "2023-06-30T11:05:36.417293Z"
    }
   }
  },
  {
   "cell_type": "code",
   "execution_count": 36,
   "outputs": [],
   "source": [
    "def model_builder(hp):\n",
    "    hp_last_units = hp.Int('units', min_value=32, max_value=768, step=32)\n",
    "    hp_last_activation = hp.Choice(\"activation\", [\"relu\", \"tanh\", \"softmax\"])\n",
    "    hp_dropout_rate = hp.Choice(\"hp_dropout_rate\", values=[.05, .1, .15, .2, .25, .3])\n",
    "\n",
    "    model_layers = [\n",
    "        layers.Rescaling(1./255, input_shape=input_shape),\n",
    "        layers.Conv2D(16, 3, padding='same', activation='relu'),\n",
    "        layers.BatchNormalization(),\n",
    "        layers.MaxPooling2D(),\n",
    "        layers.Conv2D(32, 3, padding='same', activation='relu'),\n",
    "        layers.MaxPooling2D(),\n",
    "        layers.Conv2D(64, 3, padding='same', activation='relu'),\n",
    "        layers.MaxPooling2D(),\n",
    "        layers.Dropout(hp_dropout_rate),\n",
    "        layers.Flatten(),\n",
    "        layers.Dense(hp_last_units, activation=hp_last_activation),\n",
    "        layers.Dense(num_classes, name=\"outputs\")\n",
    "    ]\n",
    "    model_layers = list(filter(lambda item: item is not None, model_layers))\n",
    "    model = keras.Sequential(model_layers)\n",
    "\n",
    "    hp_learning_rate = hp.Choice('learning_rate', values=[1e-2, 1e-3, 1e-4, 1e-5])\n",
    "    model.compile(\n",
    "        optimizer=keras.optimizers.Adam(learning_rate=hp_learning_rate),\n",
    "        loss=keras.losses.SparseCategoricalCrossentropy(from_logits=True),\n",
    "        metrics=['accuracy']\n",
    "    )\n",
    "\n",
    "    return model"
   ],
   "metadata": {
    "collapsed": false,
    "ExecuteTime": {
     "end_time": "2023-06-30T11:05:36.884853Z",
     "start_time": "2023-06-30T11:05:36.862938Z"
    }
   }
  },
  {
   "cell_type": "code",
   "execution_count": 37,
   "outputs": [],
   "source": [
    "tuner = kt.Hyperband(\n",
    "    model_builder,\n",
    "    objective='val_accuracy',\n",
    "    max_epochs=15,\n",
    "    factor=3,\n",
    "    directory='kt',\n",
    "    project_name='erebus'\n",
    ")"
   ],
   "metadata": {
    "collapsed": false,
    "ExecuteTime": {
     "end_time": "2023-06-30T11:05:37.711036Z",
     "start_time": "2023-06-30T11:05:37.650421Z"
    }
   }
  },
  {
   "cell_type": "code",
   "execution_count": 38,
   "outputs": [],
   "source": [
    "stop_early = keras.callbacks.EarlyStopping(monitor='val_loss', patience=7)"
   ],
   "metadata": {
    "collapsed": false,
    "ExecuteTime": {
     "end_time": "2023-06-30T11:05:38.348643Z",
     "start_time": "2023-06-30T11:05:38.340456Z"
    }
   }
  },
  {
   "cell_type": "code",
   "execution_count": 39,
   "outputs": [
    {
     "name": "stdout",
     "output_type": "stream",
     "text": [
      "Trial 1 Complete [00h 01m 43s]\n",
      "val_accuracy: 0.9953271150588989\n",
      "\n",
      "Best val_accuracy So Far: 0.9953271150588989\n",
      "Total elapsed time: 00h 01m 43s\n"
     ]
    }
   ],
   "source": [
    "tuner.search(train_ds, validation_data=val_ds, epochs=75, validation_split=0.2, callbacks=[stop_early])\n",
    "\n",
    "# Get the optimal hyperparameters\n",
    "best_hps = tuner.get_best_hyperparameters(num_trials=1)[0]"
   ],
   "metadata": {
    "collapsed": false
   }
  },
  {
   "cell_type": "code",
   "execution_count": 40,
   "outputs": [
    {
     "name": "stdout",
     "output_type": "stream",
     "text": [
      "\n",
      "units: 224\n",
      "activation: tanh\n",
      "hp_dropout_rate: 0.15\n",
      "learning_rate: 0.0001\n",
      "\n"
     ]
    }
   ],
   "source": [
    "print(f\"\"\"\n",
    "The hyperparameter search is complete. The optimal number of units in the first densely-connected\n",
    "layer is {best_hps.get('units')} and the optimal learning rate for the optimizer\n",
    "is {best_hps.get('learning_rate')}.\n",
    "\"\"\")"
   ],
   "metadata": {
    "collapsed": false,
    "ExecuteTime": {
     "end_time": "2023-06-30T11:07:25.991291Z",
     "start_time": "2023-06-30T11:07:25.983199Z"
    }
   }
  },
  {
   "cell_type": "code",
   "execution_count": 41,
   "id": "730d3e93",
   "metadata": {
    "ExecuteTime": {
     "end_time": "2023-06-30T11:33:40.904740Z",
     "start_time": "2023-06-30T11:07:26.606179Z"
    }
   },
   "outputs": [
    {
     "name": "stdout",
     "output_type": "stream",
     "text": [
      "Epoch 1/30\n",
      "3237/3237 [==============================] - 54s 17ms/step - loss: 0.1971 - accuracy: 0.9408 - val_loss: 0.0368 - val_accuracy: 0.9896\n",
      "Epoch 2/30\n",
      "3237/3237 [==============================] - 51s 16ms/step - loss: 0.0295 - accuracy: 0.9920 - val_loss: 0.0204 - val_accuracy: 0.9934\n",
      "Epoch 3/30\n",
      "3237/3237 [==============================] - 51s 16ms/step - loss: 0.0158 - accuracy: 0.9951 - val_loss: 0.0151 - val_accuracy: 0.9951\n",
      "Epoch 4/30\n",
      "3237/3237 [==============================] - 49s 15ms/step - loss: 0.0102 - accuracy: 0.9964 - val_loss: 0.0110 - val_accuracy: 0.9961\n",
      "Epoch 5/30\n",
      "3237/3237 [==============================] - 49s 15ms/step - loss: 0.0075 - accuracy: 0.9974 - val_loss: 0.0131 - val_accuracy: 0.9958\n",
      "Epoch 6/30\n",
      "3237/3237 [==============================] - 50s 15ms/step - loss: 0.0062 - accuracy: 0.9979 - val_loss: 0.0079 - val_accuracy: 0.9974\n",
      "Epoch 7/30\n",
      "3237/3237 [==============================] - 54s 17ms/step - loss: 0.0049 - accuracy: 0.9983 - val_loss: 0.0091 - val_accuracy: 0.9972\n",
      "Epoch 8/30\n",
      "3237/3237 [==============================] - 52s 16ms/step - loss: 0.0041 - accuracy: 0.9986 - val_loss: 0.0083 - val_accuracy: 0.9974\n",
      "Epoch 9/30\n",
      "3237/3237 [==============================] - 58s 18ms/step - loss: 0.0033 - accuracy: 0.9988 - val_loss: 0.0106 - val_accuracy: 0.9970\n",
      "Epoch 10/30\n",
      "3237/3237 [==============================] - 51s 16ms/step - loss: 0.0034 - accuracy: 0.9987 - val_loss: 0.0065 - val_accuracy: 0.9980\n",
      "Epoch 11/30\n",
      "3237/3237 [==============================] - 51s 16ms/step - loss: 0.0027 - accuracy: 0.9990 - val_loss: 0.0085 - val_accuracy: 0.9974\n",
      "Epoch 12/30\n",
      "3237/3237 [==============================] - 51s 16ms/step - loss: 0.0029 - accuracy: 0.9989 - val_loss: 0.0067 - val_accuracy: 0.9980\n",
      "Epoch 13/30\n",
      "3237/3237 [==============================] - 50s 16ms/step - loss: 0.0026 - accuracy: 0.9990 - val_loss: 0.0081 - val_accuracy: 0.9976\n",
      "Epoch 14/30\n",
      "3237/3237 [==============================] - 51s 16ms/step - loss: 0.0022 - accuracy: 0.9992 - val_loss: 0.0086 - val_accuracy: 0.9980\n",
      "Epoch 15/30\n",
      "3237/3237 [==============================] - 51s 16ms/step - loss: 0.0021 - accuracy: 0.9992 - val_loss: 0.0084 - val_accuracy: 0.9978\n",
      "Epoch 16/30\n",
      "3237/3237 [==============================] - 53s 16ms/step - loss: 0.0024 - accuracy: 0.9991 - val_loss: 0.0109 - val_accuracy: 0.9971\n",
      "Epoch 17/30\n",
      "3237/3237 [==============================] - 56s 17ms/step - loss: 0.0020 - accuracy: 0.9993 - val_loss: 0.0077 - val_accuracy: 0.9981\n",
      "Epoch 18/30\n",
      "3237/3237 [==============================] - 53s 16ms/step - loss: 0.0023 - accuracy: 0.9992 - val_loss: 0.0076 - val_accuracy: 0.9982\n",
      "Epoch 19/30\n",
      "3237/3237 [==============================] - 51s 16ms/step - loss: 0.0016 - accuracy: 0.9994 - val_loss: 0.0077 - val_accuracy: 0.9980\n",
      "Epoch 20/30\n",
      "3237/3237 [==============================] - 52s 16ms/step - loss: 0.0019 - accuracy: 0.9992 - val_loss: 0.0079 - val_accuracy: 0.9982\n",
      "Epoch 21/30\n",
      "3237/3237 [==============================] - 53s 16ms/step - loss: 0.0017 - accuracy: 0.9994 - val_loss: 0.0083 - val_accuracy: 0.9980\n",
      "Epoch 22/30\n",
      "3237/3237 [==============================] - 52s 16ms/step - loss: 0.0016 - accuracy: 0.9993 - val_loss: 0.0082 - val_accuracy: 0.9981\n",
      "Epoch 23/30\n",
      "3237/3237 [==============================] - 57s 18ms/step - loss: 0.0017 - accuracy: 0.9992 - val_loss: 0.0077 - val_accuracy: 0.9981\n",
      "Epoch 24/30\n",
      "3237/3237 [==============================] - 57s 17ms/step - loss: 0.0016 - accuracy: 0.9994 - val_loss: 0.0072 - val_accuracy: 0.9983\n",
      "Epoch 25/30\n",
      "3237/3237 [==============================] - 54s 17ms/step - loss: 0.0015 - accuracy: 0.9994 - val_loss: 0.0130 - val_accuracy: 0.9973\n",
      "Epoch 26/30\n",
      "3237/3237 [==============================] - 53s 16ms/step - loss: 0.0013 - accuracy: 0.9994 - val_loss: 0.0070 - val_accuracy: 0.9983\n",
      "Epoch 27/30\n",
      "3237/3237 [==============================] - 52s 16ms/step - loss: 0.0017 - accuracy: 0.9993 - val_loss: 0.0087 - val_accuracy: 0.9981\n",
      "Epoch 28/30\n",
      "3237/3237 [==============================] - 53s 16ms/step - loss: 0.0014 - accuracy: 0.9994 - val_loss: 0.0091 - val_accuracy: 0.9980\n",
      "Epoch 29/30\n",
      "3237/3237 [==============================] - 53s 16ms/step - loss: 0.0012 - accuracy: 0.9995 - val_loss: 0.0079 - val_accuracy: 0.9981\n",
      "Epoch 30/30\n",
      "3237/3237 [==============================] - 52s 16ms/step - loss: 0.0016 - accuracy: 0.9994 - val_loss: 0.0082 - val_accuracy: 0.9982\n"
     ]
    }
   ],
   "source": [
    "model = tuner.hypermodel.build(best_hps)\n",
    "history = model.fit(\n",
    "    train_ds,\n",
    "    validation_data=val_ds,\n",
    "    epochs=75,\n",
    "    validation_split=0.2\n",
    ")"
   ]
  },
  {
   "cell_type": "code",
   "execution_count": 42,
   "outputs": [
    {
     "data": {
      "text/plain": "<Figure size 800x800 with 2 Axes>",
      "image/png": "[encoded data removed]"
     },
     "metadata": {},
     "output_type": "display_data"
    }
   ],
   "source": [
    "acc = history.history['accuracy']\n",
    "val_acc = history.history['val_accuracy']\n",
    "\n",
    "loss = history.history['loss']\n",
    "val_loss = history.history['val_loss']\n",
    "\n",
    "epochs_range = range(75)\n",
    "\n",
    "plt.figure(figsize=(8, 8))\n",
    "plt.subplot(1, 2, 1)\n",
    "plt.plot(epochs_range, acc, label='Training Accuracy')\n",
    "plt.plot(epochs_range, val_acc, label='Validation Accuracy')\n",
    "plt.legend(loc='lower right')\n",
    "plt.title('Training and Validation Accuracy')\n",
    "\n",
    "plt.subplot(1, 2, 2)\n",
    "plt.plot(epochs_range, loss, label='Training Loss')\n",
    "plt.plot(epochs_range, val_loss, label='Validation Loss')\n",
    "plt.legend(loc='upper right')\n",
    "plt.title('Training and Validation Loss')\n",
    "plt.show()"
   ],
   "metadata": {
    "collapsed": false,
    "ExecuteTime": {
     "end_time": "2023-06-30T11:33:42.028440Z",
     "start_time": "2023-06-30T11:33:41.853428Z"
    }
   }
  },
  {
   "cell_type": "code",
   "execution_count": 44,
   "id": "50afb0ff",
   "metadata": {
    "ExecuteTime": {
     "end_time": "2023-06-30T11:33:51.195232Z",
     "start_time": "2023-06-30T11:33:51.155325Z"
    }
   },
   "outputs": [],
   "source": [
    "model.save('test_f-hp.keras')"
   ]
  },
  {
   "cell_type": "code",
   "execution_count": 46,
   "id": "2ff92837",
   "metadata": {
    "ExecuteTime": {
     "end_time": "2023-06-30T11:38:31.843612Z",
     "start_time": "2023-06-30T11:38:31.835963Z"
    }
   },
   "outputs": [],
   "source": [
    "img = tf.keras.preprocessing.image.load_img(\n",
    "    \"Signs/S/55.png\", target_size=image_size\n",
    ")"
   ]
  },
  {
   "cell_type": "code",
   "execution_count": 47,
   "id": "df85eb84",
   "metadata": {
    "ExecuteTime": {
     "end_time": "2023-06-30T11:38:32.287508Z",
     "start_time": "2023-06-30T11:38:32.208880Z"
    }
   },
   "outputs": [
    {
     "name": "stdout",
     "output_type": "stream",
     "text": [
      "1/1 [==============================] - 0s 39ms/step\n",
      "Time: 0.05806599999777973s\n",
      "[('0', -3.876068), ('C', 3.4386), ('F', -9.385604), ('H', 0.050795324), ('O', -3.0861585), ('P', -1.1672095), ('S', 17.338993), ('U', -2.0578747)]\n",
      "[6]\n",
      "S\n"
     ]
    }
   ],
   "source": [
    "img_array = tf.keras.preprocessing.image.img_to_array(img)\n",
    "img_array = tf.expand_dims(img_array, 0)  # Create batch axis\n",
    "\n",
    "start = time.process_time() \n",
    "predictions = model.predict(img_array)\n",
    "end = time.process_time()\n",
    "\n",
    "print(\"Time: {}s\".format(end-start))\n",
    "print(list(map(lambda p, c: (c, p),predictions[0], class_names)))\n",
    "print(predictions.argmax(axis=-1))\n",
    "print(sorted(map(lambda p, c: (c, p),predictions[0], class_names), key=lambda t: t[1]))"
   ]
  },
  {
   "cell_type": "code",
   "execution_count": null,
   "outputs": [],
   "source": [],
   "metadata": {
    "collapsed": false
   }
  }
 ],
 "metadata": {
  "kernelspec": {
   "display_name": "Python 3 (ipykernel)",
   "language": "python",
   "name": "python3"
  },
  "language_info": {
   "codemirror_mode": {
    "name": "ipython",
    "version": 3
   },
   "file_extension": ".py",
   "mimetype": "text/x-python",
   "name": "python",
   "nbconvert_exporter": "python",
   "pygments_lexer": "ipython3",
   "version": "3.10.9"
  }
 },
 "nbformat": 4,
 "nbformat_minor": 5
}
