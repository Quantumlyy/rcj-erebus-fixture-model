{
 "cells": [
  {
   "cell_type": "code",
   "execution_count": 158,
   "outputs": [],
   "source": [
    "import sys\n",
    "import time"
   ],
   "metadata": {
    "collapsed": false,
    "ExecuteTime": {
     "start_time": "2023-06-09T09:13:01.249848Z",
     "end_time": "2023-06-09T09:13:01.256270Z"
    }
   }
  },
  {
   "cell_type": "code",
   "execution_count": 159,
   "id": "5151cfac",
   "metadata": {
    "ExecuteTime": {
     "start_time": "2023-06-09T09:13:01.537269Z",
     "end_time": "2023-06-09T09:13:01.541369Z"
    }
   },
   "outputs": [],
   "source": [
    "import tensorflow as tf\n",
    "import keras\n",
    "from keras import layers\n",
    "import keras_tuner as kt\n",
    "import numpy as np\n",
    "from PIL import Image"
   ]
  },
  {
   "cell_type": "code",
   "execution_count": 160,
   "outputs": [],
   "source": [
    "sys.modules['Image'] = Image"
   ],
   "metadata": {
    "collapsed": false,
    "ExecuteTime": {
     "start_time": "2023-06-09T09:13:01.946826Z",
     "end_time": "2023-06-09T09:13:01.958680Z"
    }
   }
  },
  {
   "cell_type": "code",
   "execution_count": 161,
   "id": "9553b337",
   "metadata": {
    "ExecuteTime": {
     "start_time": "2023-06-09T09:13:02.322877Z",
     "end_time": "2023-06-09T09:13:02.384505Z"
    }
   },
   "outputs": [],
   "source": [
    "tf.get_logger().setLevel('ERROR')"
   ]
  },
  {
   "cell_type": "code",
   "execution_count": 162,
   "id": "063c2882",
   "metadata": {
    "ExecuteTime": {
     "start_time": "2023-06-09T09:13:02.797070Z",
     "end_time": "2023-06-09T09:13:03.502289Z"
    }
   },
   "outputs": [
    {
     "name": "stdout",
     "output_type": "stream",
     "text": [
      "Deleted 0 images\n"
     ]
    }
   ],
   "source": [
    "import os\n",
    "\n",
    "# folders = (\"H\", \"S\", \"U\", \"FG\", \"OP\", \"P\", \"C\")\n",
    "folders = (\"H\", \"S\", \"U\")\n",
    "\n",
    "num_skipped = 0\n",
    "for folder_name in folders:\n",
    "    folder_path = os.path.join(\"Signs\", folder_name)\n",
    "    for fname in os.listdir(folder_path):\n",
    "        fpath = os.path.join(folder_path, fname)\n",
    "        try:\n",
    "            fobj = open(fpath, \"rb\")\n",
    "            is_jfif = tf.compat.as_bytes(\"PNG\") in fobj.peek(10)\n",
    "        finally:\n",
    "            fobj.close()\n",
    "\n",
    "        if not is_jfif:\n",
    "            num_skipped += 1\n",
    "            # Delete corrupted image\n",
    "            os.remove(fpath)\n",
    "\n",
    "print(\"Deleted %d images\" % num_skipped)"
   ]
  },
  {
   "cell_type": "code",
   "execution_count": 163,
   "id": "d8450da8",
   "metadata": {
    "ExecuteTime": {
     "start_time": "2023-06-09T09:13:04.188775Z",
     "end_time": "2023-06-09T09:13:05.015926Z"
    }
   },
   "outputs": [
    {
     "name": "stdout",
     "output_type": "stream",
     "text": [
      "Found 6228 files belonging to 3 classes.\n",
      "Using 4983 files for training.\n",
      "Found 6228 files belonging to 3 classes.\n",
      "Using 1245 files for validation.\n"
     ]
    }
   ],
   "source": [
    "image_size = (64, 40)\n",
    "batch_size = 32\n",
    "\n",
    "train_ds = keras.utils.image_dataset_from_directory(\n",
    "    \"Signs\",\n",
    "    validation_split=0.2,\n",
    "    subset=\"training\",\n",
    "    seed=1337,\n",
    "    image_size=image_size,\n",
    "    batch_size=batch_size,\n",
    ")\n",
    "\n",
    "val_ds = keras.utils.image_dataset_from_directory(\n",
    "    \"Signs\",\n",
    "    validation_split=0.2,\n",
    "    subset=\"validation\",\n",
    "    seed=1337,\n",
    "    image_size=image_size,\n",
    "    batch_size=batch_size,\n",
    ")"
   ]
  },
  {
   "cell_type": "code",
   "execution_count": 164,
   "id": "d01ef311",
   "metadata": {
    "ExecuteTime": {
     "start_time": "2023-06-09T09:13:05.939603Z",
     "end_time": "2023-06-09T09:13:06.076597Z"
    }
   },
   "outputs": [
    {
     "name": "stdout",
     "output_type": "stream",
     "text": [
      "4983\n",
      "['H', 'S', 'U']\n"
     ]
    }
   ],
   "source": [
    "class_names = train_ds.class_names\n",
    "print(len(np.concatenate([i for x, i in train_ds], axis=0)))\n",
    "print(class_names)"
   ]
  },
  {
   "cell_type": "code",
   "execution_count": 165,
   "id": "4a61c650",
   "metadata": {
    "ExecuteTime": {
     "start_time": "2023-06-09T09:13:06.807232Z",
     "end_time": "2023-06-09T09:13:07.052734Z"
    }
   },
   "outputs": [
    {
     "data": {
      "text/plain": "<Figure size 1000x1000 with 7 Axes>",
      "image/png": "[encoded data removed]"
     },
     "metadata": {},
     "output_type": "display_data"
    }
   ],
   "source": [
    "import matplotlib.pyplot as plt\n",
    "\n",
    "plt.figure(figsize=(10, 10))\n",
    "for images, labels in train_ds.take(1):\n",
    "    for i in range(7):\n",
    "        ax = plt.subplot(3, 3, i + 1)\n",
    "        plt.imshow(images[i].numpy().astype(\"uint8\"))\n",
    "        plt.title(int(labels[i]))\n",
    "        plt.axis(\"off\")"
   ]
  },
  {
   "cell_type": "code",
   "execution_count": 166,
   "outputs": [],
   "source": [
    "input_shape=image_size + (3,)\n",
    "num_classes=len(folders)"
   ],
   "metadata": {
    "collapsed": false,
    "ExecuteTime": {
     "start_time": "2023-06-09T09:13:08.135985Z",
     "end_time": "2023-06-09T09:13:08.141817Z"
    }
   }
  },
  {
   "cell_type": "code",
   "execution_count": 167,
   "outputs": [],
   "source": [
    "def model_builder(hp):\n",
    "    hp_last_units = hp.Int('units', min_value=32, max_value=768, step=32)\n",
    "    hp_last_activation = hp.Choice(\"activation\", [\"relu\", \"tanh\"])\n",
    "    hp_dropout = hp.Boolean(\"dropout\")\n",
    "\n",
    "    model_layers = [\n",
    "        layers.Rescaling(1./255, input_shape=input_shape),\n",
    "        layers.Conv2D(16, 3, padding='same', activation='relu'),\n",
    "        layers.BatchNormalization(),\n",
    "        layers.MaxPooling2D(),\n",
    "        layers.Conv2D(32, 3, padding='same', activation='relu'),\n",
    "        layers.MaxPooling2D(),\n",
    "        layers.Conv2D(64, 3, padding='same', activation='relu'),\n",
    "        layers.MaxPooling2D(),\n",
    "        layers.Dropout(0.25) if hp_dropout else None,\n",
    "        layers.Flatten(),\n",
    "        layers.Dense(hp_last_units, activation=hp_last_activation),\n",
    "        layers.Dense(num_classes, name=\"outputs\")\n",
    "    ]\n",
    "    model_layers = list(filter(lambda item: item is not None, model_layers))\n",
    "    model = keras.Sequential(model_layers)\n",
    "\n",
    "    hp_learning_rate = hp.Choice('learning_rate', values=[1e-2, 1e-3, 1e-4, 1e-5])\n",
    "    model.compile(\n",
    "        optimizer=keras.optimizers.Adam(learning_rate=hp_learning_rate),\n",
    "        loss=keras.losses.SparseCategoricalCrossentropy(from_logits=True),\n",
    "        metrics=['accuracy']\n",
    "    )\n",
    "\n",
    "    return model"
   ],
   "metadata": {
    "collapsed": false,
    "ExecuteTime": {
     "start_time": "2023-06-09T09:13:26.801937Z",
     "end_time": "2023-06-09T09:13:26.805707Z"
    }
   }
  },
  {
   "cell_type": "code",
   "execution_count": 168,
   "outputs": [],
   "source": [
    "tuner = kt.Hyperband(\n",
    "    model_builder,\n",
    "    objective='val_accuracy',\n",
    "    max_epochs=10,\n",
    "    factor=3,\n",
    "    directory='kt',\n",
    "    project_name='erebus'\n",
    ")"
   ],
   "metadata": {
    "collapsed": false,
    "ExecuteTime": {
     "start_time": "2023-06-09T09:13:27.383493Z",
     "end_time": "2023-06-09T09:13:27.419094Z"
    }
   }
  },
  {
   "cell_type": "code",
   "execution_count": 170,
   "outputs": [],
   "source": [
    "stop_early = keras.callbacks.EarlyStopping(monitor='val_loss', patience=5)"
   ],
   "metadata": {
    "collapsed": false,
    "ExecuteTime": {
     "start_time": "2023-06-09T09:13:40.426503Z",
     "end_time": "2023-06-09T09:13:40.431345Z"
    }
   }
  },
  {
   "cell_type": "code",
   "execution_count": 171,
   "outputs": [
    {
     "name": "stdout",
     "output_type": "stream",
     "text": [
      "Trial 30 Complete [00h 00m 27s]\n",
      "val_accuracy: 0.827309250831604\n",
      "\n",
      "Best val_accuracy So Far: 0.9983935952186584\n",
      "Total elapsed time: 00h 05m 21s\n"
     ]
    }
   ],
   "source": [
    "tuner.search(train_ds, validation_data=val_ds, epochs=50, validation_split=0.2, callbacks=[stop_early])\n",
    "\n",
    "# Get the optimal hyperparameters\n",
    "best_hps = tuner.get_best_hyperparameters(num_trials=1)[0]"
   ],
   "metadata": {
    "collapsed": false,
    "ExecuteTime": {
     "start_time": "2023-06-09T09:13:40.881070Z",
     "end_time": "2023-06-09T09:19:01.497067Z"
    }
   }
  },
  {
   "cell_type": "code",
   "execution_count": 172,
   "outputs": [
    {
     "name": "stdout",
     "output_type": "stream",
     "text": [
      "\n",
      "The hyperparameter search is complete. The optimal number of units in the first densely-connected\n",
      "layer is 128 and the optimal learning rate for the optimizer\n",
      "is 0.001.\n",
      "\n"
     ]
    }
   ],
   "source": [
    "print(f\"\"\"\n",
    "The hyperparameter search is complete. The optimal number of units in the first densely-connected\n",
    "layer is {best_hps.get('units')} and the optimal learning rate for the optimizer\n",
    "is {best_hps.get('learning_rate')}.\n",
    "\"\"\")"
   ],
   "metadata": {
    "collapsed": false,
    "ExecuteTime": {
     "start_time": "2023-06-09T09:19:01.498126Z",
     "end_time": "2023-06-09T09:19:01.502709Z"
    }
   }
  },
  {
   "cell_type": "code",
   "execution_count": 173,
   "id": "730d3e93",
   "metadata": {
    "ExecuteTime": {
     "start_time": "2023-06-09T09:21:18.034389Z",
     "end_time": "2023-06-09T09:23:08.218833Z"
    }
   },
   "outputs": [
    {
     "name": "stdout",
     "output_type": "stream",
     "text": [
      "Epoch 1/50\n",
      "156/156 [==============================] - 2s 14ms/step - loss: 0.6192 - accuracy: 0.7132 - val_loss: 1.1655 - val_accuracy: 0.4297\n",
      "Epoch 2/50\n",
      "156/156 [==============================] - 2s 14ms/step - loss: 0.0673 - accuracy: 0.9797 - val_loss: 0.4079 - val_accuracy: 0.7992\n",
      "Epoch 3/50\n",
      "156/156 [==============================] - 2s 14ms/step - loss: 0.0229 - accuracy: 0.9934 - val_loss: 0.2449 - val_accuracy: 0.8811\n",
      "Epoch 4/50\n",
      "156/156 [==============================] - 2s 14ms/step - loss: 0.0219 - accuracy: 0.9936 - val_loss: 0.0350 - val_accuracy: 0.9896\n",
      "Epoch 5/50\n",
      "156/156 [==============================] - 2s 14ms/step - loss: 0.0070 - accuracy: 0.9984 - val_loss: 0.0289 - val_accuracy: 0.9912\n",
      "Epoch 6/50\n",
      "156/156 [==============================] - 2s 14ms/step - loss: 0.0032 - accuracy: 0.9994 - val_loss: 0.0187 - val_accuracy: 0.9944\n",
      "Epoch 7/50\n",
      "156/156 [==============================] - 2s 14ms/step - loss: 7.3214e-04 - accuracy: 1.0000 - val_loss: 0.0062 - val_accuracy: 0.9984\n",
      "Epoch 8/50\n",
      "156/156 [==============================] - 2s 14ms/step - loss: 4.1976e-04 - accuracy: 1.0000 - val_loss: 0.0068 - val_accuracy: 0.9976\n",
      "Epoch 9/50\n",
      "156/156 [==============================] - 2s 14ms/step - loss: 2.9253e-04 - accuracy: 1.0000 - val_loss: 0.0066 - val_accuracy: 0.9976\n",
      "Epoch 10/50\n",
      "156/156 [==============================] - 2s 14ms/step - loss: 1.3897e-04 - accuracy: 1.0000 - val_loss: 0.0063 - val_accuracy: 0.9976\n",
      "Epoch 11/50\n",
      "156/156 [==============================] - 2s 14ms/step - loss: 1.1973e-04 - accuracy: 1.0000 - val_loss: 0.0061 - val_accuracy: 0.9976\n",
      "Epoch 12/50\n",
      "156/156 [==============================] - 2s 14ms/step - loss: 9.8545e-05 - accuracy: 1.0000 - val_loss: 0.0063 - val_accuracy: 0.9976\n",
      "Epoch 13/50\n",
      "156/156 [==============================] - 2s 14ms/step - loss: 8.5974e-05 - accuracy: 1.0000 - val_loss: 0.0066 - val_accuracy: 0.9976\n",
      "Epoch 14/50\n",
      "156/156 [==============================] - 2s 14ms/step - loss: 7.2642e-05 - accuracy: 1.0000 - val_loss: 0.0068 - val_accuracy: 0.9976\n",
      "Epoch 15/50\n",
      "156/156 [==============================] - 2s 14ms/step - loss: 6.3207e-05 - accuracy: 1.0000 - val_loss: 0.0064 - val_accuracy: 0.9976\n",
      "Epoch 16/50\n",
      "156/156 [==============================] - 2s 14ms/step - loss: 5.4937e-05 - accuracy: 1.0000 - val_loss: 0.0067 - val_accuracy: 0.9976\n",
      "Epoch 17/50\n",
      "156/156 [==============================] - 2s 14ms/step - loss: 5.0300e-05 - accuracy: 1.0000 - val_loss: 0.0063 - val_accuracy: 0.9976\n",
      "Epoch 18/50\n",
      "156/156 [==============================] - 2s 14ms/step - loss: 4.4687e-05 - accuracy: 1.0000 - val_loss: 0.0066 - val_accuracy: 0.9976\n",
      "Epoch 19/50\n",
      "156/156 [==============================] - 2s 14ms/step - loss: 3.7876e-05 - accuracy: 1.0000 - val_loss: 0.0065 - val_accuracy: 0.9976\n",
      "Epoch 20/50\n",
      "156/156 [==============================] - 2s 15ms/step - loss: 3.4764e-05 - accuracy: 1.0000 - val_loss: 0.0074 - val_accuracy: 0.9968\n",
      "Epoch 21/50\n",
      "156/156 [==============================] - 2s 15ms/step - loss: 3.0931e-05 - accuracy: 1.0000 - val_loss: 0.0066 - val_accuracy: 0.9968\n",
      "Epoch 22/50\n",
      "156/156 [==============================] - 2s 15ms/step - loss: 2.8622e-05 - accuracy: 1.0000 - val_loss: 0.0070 - val_accuracy: 0.9968\n",
      "Epoch 23/50\n",
      "156/156 [==============================] - 2s 14ms/step - loss: 2.5229e-05 - accuracy: 1.0000 - val_loss: 0.0067 - val_accuracy: 0.9960\n",
      "Epoch 24/50\n",
      "156/156 [==============================] - 2s 14ms/step - loss: 2.3015e-05 - accuracy: 1.0000 - val_loss: 0.0066 - val_accuracy: 0.9968\n",
      "Epoch 25/50\n",
      "156/156 [==============================] - 2s 14ms/step - loss: 2.0115e-05 - accuracy: 1.0000 - val_loss: 0.0067 - val_accuracy: 0.9968\n",
      "Epoch 26/50\n",
      "156/156 [==============================] - 2s 14ms/step - loss: 1.9165e-05 - accuracy: 1.0000 - val_loss: 0.0065 - val_accuracy: 0.9968\n",
      "Epoch 27/50\n",
      "156/156 [==============================] - 2s 14ms/step - loss: 1.7084e-05 - accuracy: 1.0000 - val_loss: 0.0064 - val_accuracy: 0.9968\n",
      "Epoch 28/50\n",
      "156/156 [==============================] - 2s 14ms/step - loss: 1.5548e-05 - accuracy: 1.0000 - val_loss: 0.0065 - val_accuracy: 0.9960\n",
      "Epoch 29/50\n",
      "156/156 [==============================] - 2s 14ms/step - loss: 1.4286e-05 - accuracy: 1.0000 - val_loss: 0.0066 - val_accuracy: 0.9968\n",
      "Epoch 30/50\n",
      "156/156 [==============================] - 2s 14ms/step - loss: 1.2967e-05 - accuracy: 1.0000 - val_loss: 0.0065 - val_accuracy: 0.9960\n",
      "Epoch 31/50\n",
      "156/156 [==============================] - 2s 14ms/step - loss: 1.1439e-05 - accuracy: 1.0000 - val_loss: 0.0070 - val_accuracy: 0.9960\n",
      "Epoch 32/50\n",
      "156/156 [==============================] - 2s 14ms/step - loss: 1.0716e-05 - accuracy: 1.0000 - val_loss: 0.0072 - val_accuracy: 0.9960\n",
      "Epoch 33/50\n",
      "156/156 [==============================] - 2s 14ms/step - loss: 9.4689e-06 - accuracy: 1.0000 - val_loss: 0.0074 - val_accuracy: 0.9960\n",
      "Epoch 34/50\n",
      "156/156 [==============================] - 2s 14ms/step - loss: 9.0017e-06 - accuracy: 1.0000 - val_loss: 0.0071 - val_accuracy: 0.9960\n",
      "Epoch 35/50\n",
      "156/156 [==============================] - 2s 14ms/step - loss: 8.3708e-06 - accuracy: 1.0000 - val_loss: 0.0070 - val_accuracy: 0.9960\n",
      "Epoch 36/50\n",
      "156/156 [==============================] - 2s 14ms/step - loss: 7.8474e-06 - accuracy: 1.0000 - val_loss: 0.0072 - val_accuracy: 0.9960\n",
      "Epoch 37/50\n",
      "156/156 [==============================] - 2s 14ms/step - loss: 6.8417e-06 - accuracy: 1.0000 - val_loss: 0.0070 - val_accuracy: 0.9960\n",
      "Epoch 38/50\n",
      "156/156 [==============================] - 2s 14ms/step - loss: 6.8889e-06 - accuracy: 1.0000 - val_loss: 0.0071 - val_accuracy: 0.9968\n",
      "Epoch 39/50\n",
      "156/156 [==============================] - 2s 14ms/step - loss: 5.9924e-06 - accuracy: 1.0000 - val_loss: 0.0079 - val_accuracy: 0.9968\n",
      "Epoch 40/50\n",
      "156/156 [==============================] - 2s 14ms/step - loss: 5.3864e-06 - accuracy: 1.0000 - val_loss: 0.0075 - val_accuracy: 0.9968\n",
      "Epoch 41/50\n",
      "156/156 [==============================] - 2s 14ms/step - loss: 5.0548e-06 - accuracy: 1.0000 - val_loss: 0.0071 - val_accuracy: 0.9968\n",
      "Epoch 42/50\n",
      "156/156 [==============================] - 2s 14ms/step - loss: 4.8006e-06 - accuracy: 1.0000 - val_loss: 0.0071 - val_accuracy: 0.9968\n",
      "Epoch 43/50\n",
      "156/156 [==============================] - 2s 14ms/step - loss: 4.2527e-06 - accuracy: 1.0000 - val_loss: 0.0074 - val_accuracy: 0.9968\n",
      "Epoch 44/50\n",
      "156/156 [==============================] - 2s 14ms/step - loss: 3.7407e-06 - accuracy: 1.0000 - val_loss: 0.0078 - val_accuracy: 0.9968\n",
      "Epoch 45/50\n",
      "156/156 [==============================] - 2s 14ms/step - loss: 3.4791e-06 - accuracy: 1.0000 - val_loss: 0.0078 - val_accuracy: 0.9968\n",
      "Epoch 46/50\n",
      "156/156 [==============================] - 2s 14ms/step - loss: 3.2753e-06 - accuracy: 1.0000 - val_loss: 0.0075 - val_accuracy: 0.9968\n",
      "Epoch 47/50\n",
      "156/156 [==============================] - 2s 14ms/step - loss: 2.9252e-06 - accuracy: 1.0000 - val_loss: 0.0082 - val_accuracy: 0.9968\n",
      "Epoch 48/50\n",
      "156/156 [==============================] - 2s 15ms/step - loss: 2.7351e-06 - accuracy: 1.0000 - val_loss: 0.0083 - val_accuracy: 0.9968\n",
      "Epoch 49/50\n",
      "156/156 [==============================] - 2s 14ms/step - loss: 2.5129e-06 - accuracy: 1.0000 - val_loss: 0.0078 - val_accuracy: 0.9968\n",
      "Epoch 50/50\n",
      "156/156 [==============================] - 2s 14ms/step - loss: 2.4132e-06 - accuracy: 1.0000 - val_loss: 0.0080 - val_accuracy: 0.9968\n"
     ]
    }
   ],
   "source": [
    "model = tuner.hypermodel.build(best_hps)\n",
    "history = model.fit(\n",
    "    train_ds,\n",
    "    validation_data=val_ds,\n",
    "    epochs=50,\n",
    "    validation_split=0.2\n",
    ")"
   ]
  },
  {
   "cell_type": "code",
   "execution_count": 174,
   "id": "5a0291c3",
   "metadata": {
    "ExecuteTime": {
     "start_time": "2023-06-09T09:25:45.533901Z",
     "end_time": "2023-06-09T09:25:45.707380Z"
    }
   },
   "outputs": [
    {
     "data": {
      "text/plain": "<Figure size 800x800 with 2 Axes>",
      "image/png": "[encoded data removed]"
     },
     "metadata": {},
     "output_type": "display_data"
    }
   ],
   "source": [
    "acc = history.history['accuracy']\n",
    "val_acc = history.history['val_accuracy']\n",
    "\n",
    "loss = history.history['loss']\n",
    "val_loss = history.history['val_loss']\n",
    "\n",
    "epochs_range = range(50)\n",
    "\n",
    "plt.figure(figsize=(8, 8))\n",
    "plt.subplot(1, 2, 1)\n",
    "plt.plot(epochs_range, acc, label='Training Accuracy')\n",
    "plt.plot(epochs_range, val_acc, label='Validation Accuracy')\n",
    "plt.legend(loc='lower right')\n",
    "plt.title('Training and Validation Accuracy')\n",
    "\n",
    "plt.subplot(1, 2, 2)\n",
    "plt.plot(epochs_range, loss, label='Training Loss')\n",
    "plt.plot(epochs_range, val_loss, label='Validation Loss')\n",
    "plt.legend(loc='upper right')\n",
    "plt.title('Training and Validation Loss')\n",
    "plt.show()"
   ]
  },
  {
   "cell_type": "code",
   "execution_count": 177,
   "id": "50afb0ff",
   "metadata": {
    "ExecuteTime": {
     "start_time": "2023-06-09T09:26:08.801704Z",
     "end_time": "2023-06-09T09:26:08.820370Z"
    }
   },
   "outputs": [],
   "source": [
    "model.save('test_4-hp.keras')"
   ]
  },
  {
   "cell_type": "code",
   "execution_count": 175,
   "id": "2ff92837",
   "metadata": {
    "ExecuteTime": {
     "start_time": "2023-06-09T09:25:58.647303Z",
     "end_time": "2023-06-09T09:25:58.654519Z"
    }
   },
   "outputs": [],
   "source": [
    "img = tf.keras.preprocessing.image.load_img(\n",
    "    \"Signs/S/55.png\", target_size=image_size\n",
    ")"
   ]
  },
  {
   "cell_type": "code",
   "execution_count": 176,
   "id": "df85eb84",
   "metadata": {
    "ExecuteTime": {
     "start_time": "2023-06-09T09:25:59.188301Z",
     "end_time": "2023-06-09T09:25:59.251944Z"
    }
   },
   "outputs": [
    {
     "name": "stdout",
     "output_type": "stream",
     "text": [
      "1/1 [==============================] - 0s 41ms/step\n",
      "Time: 0.06312100000104692s\n",
      "[('H', -0.8938643), ('S', 13.54602), ('U', -11.31497)]\n"
     ]
    }
   ],
   "source": [
    "img_array = tf.keras.preprocessing.image.img_to_array(img)\n",
    "img_array = tf.expand_dims(img_array, 0)  # Create batch axis\n",
    "\n",
    "start = time.process_time() \n",
    "predictions = model.predict(img_array)\n",
    "end = time.process_time()\n",
    "\n",
    "print(\"Time: {}s\".format(end-start)) \n",
    "print(list(map(lambda p, c: (c, p),predictions[0], class_names)))"
   ]
  },
  {
   "cell_type": "code",
   "execution_count": null,
   "outputs": [],
   "source": [],
   "metadata": {
    "collapsed": false
   }
  }
 ],
 "metadata": {
  "kernelspec": {
   "display_name": "Python 3 (ipykernel)",
   "language": "python",
   "name": "python3"
  },
  "language_info": {
   "codemirror_mode": {
    "name": "ipython",
    "version": 3
   },
   "file_extension": ".py",
   "mimetype": "text/x-python",
   "name": "python",
   "nbconvert_exporter": "python",
   "pygments_lexer": "ipython3",
   "version": "3.10.9"
  }
 },
 "nbformat": 4,
 "nbformat_minor": 5
}
